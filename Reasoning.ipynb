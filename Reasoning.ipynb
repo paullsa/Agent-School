{
 "cells": [
  {
   "cell_type": "markdown",
   "id": "7c978a60",
   "metadata": {},
   "source": [
    "### LangChain Reasoning and Synthesis Demonstration\n",
    "This notebook demonstrates the use of LangChain to perform reasoning tasks using local models via Ollama.\n",
    "We will break down a complex question into logical steps, retrieve relevant information for each step, and synthesize a final answer."
   ]
  },
  {
   "cell_type": "code",
   "execution_count": 1,
   "id": "721dc7d6",
   "metadata": {},
   "outputs": [],
   "source": [
    "# !pip install wikipedia"
   ]
  },
  {
   "cell_type": "code",
   "execution_count": 2,
   "id": "766a0570",
   "metadata": {},
   "outputs": [],
   "source": [
    "# Imports\n",
    "from langchain_ollama import OllamaLLM\n",
    "from langchain.prompts import PromptTemplate\n",
    "from langchain_core.runnables import RunnableMap\n",
    "import re"
   ]
  },
  {
   "cell_type": "markdown",
   "id": "fbe98181",
   "metadata": {},
   "source": [
    "### Load Local Reasoning and Synthesis Models\n",
    "Here, we initialize two models using Ollama:\n",
    "- **Reasoning Model (`phi4-mini`)**: Used to break down questions into logical steps.\n",
    "- **Synthesis Model (`Gemma3:1b`)**: Used to synthesize a final answer based on retrieved information.\n",
    "The `try` block ensures that the models are loaded successfully, and if there is an error (e.g., Ollama is not running), it provides helpful debugging information."
   ]
  },
  {
   "cell_type": "code",
   "execution_count": 3,
   "id": "39a17818",
   "metadata": {},
   "outputs": [],
   "source": [
    "try:\n",
    "    reasoning_llm = OllamaLLM(model=\"phi4-mini\")\n",
    "    synthesis_llm = OllamaLLM(model=\"Gemma3:1b\")\n",
    "except Exception as e:\n",
    "    print(\"❌ Failed to connect to Ollama or load model 'phi4-mini'.\")\n",
    "    print(\"💡 Make sure Ollama is running and the model is available:\")\n",
    "    print(\"    ollama run phi4-mini\")\n",
    "    print(f\"Error details: {e}\")\n",
    "    exit(1)"
   ]
  },
  {
   "cell_type": "markdown",
   "id": "ab44b631",
   "metadata": {},
   "source": [
    "### Define Reasoning Prompt\n",
    "We define a prompt template to guide the reasoning model. The template instructs the model to break down a given question into logical steps.\n",
    "The `PromptTemplate.from_template` method allows us to create a reusable template with placeholders (e.g., `{question}`) that can be dynamically filled with input data."
   ]
  },
  {
   "cell_type": "code",
   "execution_count": 4,
   "id": "b1081e96",
   "metadata": {},
   "outputs": [],
   "source": [
    "reasoning_prompt = PromptTemplate.from_template(\"\"\"\n",
    "You are a reasoning assistant. Break the following question into logical steps. Use the provided information to answer the question:\n",
    "\n",
    "Question: {question}\n",
    "\n",
    "Step-by-step breakdown:\n",
    "\"\"\")"
   ]
  },
  {
   "cell_type": "markdown",
   "id": "574fa5f4",
   "metadata": {},
   "source": [
    "### Chain Prompt and Model\n",
    "We use LangChain's Expression Language to chain the reasoning prompt with the reasoning model. This creates a pipeline where the input question is first processed by the prompt and then passed to the reasoning model for step-by-step breakdown."
   ]
  },
  {
   "cell_type": "code",
   "execution_count": 5,
   "id": "b22c7281",
   "metadata": {},
   "outputs": [],
   "source": [
    "step_chain = reasoning_prompt | reasoning_llm"
   ]
  },
  {
   "cell_type": "markdown",
   "id": "86ed0590",
   "metadata": {},
   "source": [
    "### Invoke Reasoning Chain\n",
    "We provide a question to the reasoning chain and invoke it to generate a step-by-step breakdown of the question.\n",
    "The `invoke` method processes the input through the chain and returns the model's response."
   ]
  },
  {
   "cell_type": "code",
   "execution_count": 6,
   "id": "fdfb2323",
   "metadata": {},
   "outputs": [
    {
     "name": "stdout",
     "output_type": "stream",
     "text": [
      "💡 Reasoning steps from the model:\n",
      "\n",
      "To address this query logically:\n",
      "\n",
      "\n",
      "1. Identify when NASA's Apollo 11 mission landed people safely back onto Earth.\n",
      "\n",
      "2. Determine who served as President of the United States at that time.\n",
      "\n",
      "\n",
      "Apollo 11 successfully completed its historic task in July 1969, landing astronauts Neil Armstrong and Buzz Aldrin on lunar soil while Michael Collins orbited above them aboard their spacecraft Columbia (ASTM reference: Apollo mission timeline).\n",
      "\n",
      "\n",
      "3. Find out which U.S. president was serving during this period.\n",
      "\n",
      "The President of the United States at that time had to have been Richard Nixon.\n",
      "\n",
      "\n",
      "4. Research Mr. Nixon's policies related specifically to space exploration, as those were his beliefs and directives concerning NASA’s initiatives in outer-space projects up until he left office on August 9, 1974 (using sources such as historical archives or official government websites).\n",
      "\n",
      "\n",
      "Upon leaving the White House after losing re-election against Jimmy Carter during November elections of that year—his presidency was marked by a controversial period including events like Watergate. In terms of space exploration policies while in power:\n",
      "\n",
      "- Richard Nixon approved and funded NASA's Apollo missions, which aimed to land Americans on the Moon.\n",
      "\n",
      "- He also established Project Gemini following early failures with Mercury; it sought human endurance capabilities for longer durations (up to 14 days) before going into extended lunar landing mission phases that eventually led up to Neil Armstrong’s historic moonwalk in July of '69. This indicates a strong support and commitment toward space exploration under Nixon's presidency.\n",
      "\n",
      "\n",
      "Based on these steps, Richard Nixon was the U.S. President during NASA Apollo 11 Moon Landing (July 1969) who strongly supported extended human presence into outer-space through his administration policies which directly led to funding for continued manned missions like Gemini followed by Saturn V moon landings of Apollo program.\n"
     ]
    }
   ],
   "source": [
    "question = \"Who was the U.S. president during the moon landing, and what was his policy on space exploration?\"\n",
    "response = step_chain.invoke({\"question\": question})\n",
    "print(\"💡 Reasoning steps from the model:\\n\")\n",
    "print(response)"
   ]
  },
  {
   "cell_type": "markdown",
   "id": "27b48dc0",
   "metadata": {},
   "source": [
    "### Call the Wikidpedia API\n",
    "This code uses LangChain tools to interact with Wikipedia. It breaks a question into reasoning steps, retrieves facts from Wikipedia for each step, and displays the results.\n",
    "\n",
    "---\n",
    "\n",
    "### Key Steps\n",
    "\n",
    "1. **Initialize Tools**: Set up `WikipediaAPIWrapper` and `WikipediaQueryRun` for Wikipedia lookups.\n",
    "2. **Process Question**: Use `step_chain.invoke()` to break the question into steps.\n",
    "3. **Retrieve Facts**: Look up each step using the Wikipedia tool, handle errors, and collect results.\n",
    "4. **Display Results**: Combine retrieved facts into a single output and print them.\n",
    "\n",
    "---\n",
    "\n",
    "Let me know if you'd like further refinements! 🚀"
   ]
  },
  {
   "cell_type": "code",
   "execution_count": 7,
   "id": "99923252",
   "metadata": {},
   "outputs": [
    {
     "name": "stdout",
     "output_type": "stream",
     "text": [
      "\n",
      "🧠 Reasoning steps:\n",
      "\n",
      "Sure! Let's break down this problem step by step using some known historical facts.\n",
      "\n",
      "1. Identify when humans first landed on the Moon.\n",
      "   - Humans successfully walked on the surface of the Moon for NASA's Apollo 11 mission in July 1969, with astronauts Neil Armstrong and Buzz Aldrin walking while Michael Collins orbited above them aboard Lunar Module Eagle.\n",
      "\n",
      "2. Determine who was president at that time (July 1969).\n",
      "   - In July 1969, Richard Nixon served as President of the United States because he succeeded Lyndon B. Johnson on August 22, 1968 and took office nine months later; thus, by mid-September to late-July would be his presidency.\n",
      "\n",
      "3. Investigate any existing policies or statements regarding space exploration from that period.\n",
      "   - Richard Nixon's administration (1969–1974) was known for continuing the commitment initiated under John F. Kennedy’s Presidency during NASA Apollo missions in 1961, which focused on landing a man safely back to Earth by December 23, 1968.\n",
      "\n",
      "Based solely upon this information:\n",
      "- The U.S. president at the time of Neil Armstrong's first steps onto the Moon was Richard Nixon.\n",
      "- His policy involved continuing and supporting space exploration as part of America's commitment established during Kennedy’s administration aimed towards achieving significant milestones in lunar missions (Apollo program).\n",
      "🔍 Looking up: Identify when humans first landed on the Moon.\n",
      "🔍 Looking up: Determine who was president at that time (July 1969).\n",
      "🔍 Looking up: Investigate any existing policies or statements regarding space exploration from that period.\n",
      "🔍 Looking up: Based solely upon this information:\n",
      "\n",
      "📚 Retrieved facts from Wikipedia:\n",
      "\n",
      "- Identify when humans first landed on the Moon.: Page: Apollo 11\n",
      "Summary: Apollo 11 was a spaceflight conducted from July 16 to 24, 1969, by the United States and launched by NASA. It marked the first time that humans landed on the Moon. Commander Neil Armstrong and Lunar Module Pilot Buzz Aldrin landed the Apollo Lunar Module Eagle on July 20, 1969, at 20:17 UTC, and Armstrong became the first person to step onto the Moon's surface six hours and 39 minutes later, on July 21 at 02:56 UTC. Aldrin joined him 19 minutes later, and they spent about two and a quarter hours together exploring the site they had named Tranquility Base upon landing. Armstrong and Aldrin collected 47.5 pounds (21.5 kg) of lunar material to bring back to Earth as pilot Michael Collins flew the Command Module Columbia in lunar orbit, and were on the Moon's surface for 21 hours, 36 minutes, before lifting off to rejoin Columbia.\n",
      "Apollo 11 was launched by a Saturn V rocket from Kennedy Space Center on Merritt Island, Florida, on July 16 at 13:32 UTC. It was the fifth crewed mission of NASA's Apollo program. The Apollo spacecraft had three parts: a command module (CM) with a cabin for the three astronauts, the only part that returned to Earth; a service module (SM), which supported the command module with propulsion, electrical power, oxygen, and water; and a lunar module (LM) that had two stages—a descent stage for landing on the Moon and an ascent stage to place the astronauts back into lunar orbit.\n",
      "After being sent to the Moon by the Saturn V's third stage, the astronauts separated the spacecraft from it and traveled for three days until they entered lunar orbit. Armstrong and Aldrin then moved into Eagle and landed in the Sea of Tranquility on July 20. The astronauts used Eagle's ascent stage to lift off from the lunar surface and rejoin Collins in the command module. They jettisoned Eagle before they performed the maneuvers that propelled Columbia out of the last of its 30 lunar orbits onto a trajectory back to Earth. They returned to Earth and splashed down in the Pacific Ocean on July 24 after more than eight days in space.\n",
      "Armstrong's first step onto the lunar surface was broadcast on live TV to a worldwide audience. He described the event as \"one small step for [a] man, one giant leap for mankind.\" Apollo 11 effectively proved U.S. victory in the Space Race to demonstrate spaceflight superiority, by fulfilling a national goal proposed in 1961 by President John F. Kennedy, \"before this decade is out, of landing a man on the Moon and returning him safely to the Earth.\"\n",
      "\n",
      "\n",
      "- Determine who was president at that time (July 1969).: Page: Vietnam War draft\n",
      "Summary: The United States had had a draft, a system of conscription, during the late 1950s and early 1960s, the peacetime years before the Vietnam War. It was administered by the Selective Service System. But the number of men actually drafted each year was modest. There were enough volunteers to meet most of the personnel needs of the military. In the second half of 1965, with American troops pouring into Vietnam, there was a substantial expansion of the US armed forces, and this required a dramatic increase in the number of men drafted each month. But the number of men drafted each month remained far below the number who potentially could have been drafted, the number of young men of draftable age who were considered adequately fit, physically and mentally, for military service.\n",
      "- Investigate any existing policies or statements regarding space exploration from that period.: Page: Chinese space program\n",
      "Summary: The space program of the People's Republic of China is about the activities in outer space conducted and directed by the People's Republic of China. The roots of the Chinese space program trace back to the 1950s, when, with the help of the newly allied Soviet Union, China began development of its first ballistic missile and rocket programs in response to the perceived American (and, later, Soviet) threats. Driven by the successes of Soviet Sputnik 1 and American Explorer 1 satellite launches in 1957 and 1958 respectively, China would launch its first satellite, Dong Fang Hong 1 in April 1970 aboard a Long March 1 rocket, making it the fifth nation to place a satellite in orbit.\n",
      "China has one of the most active space programs in the world. With space launch capability provided by the Long March rocket family and four spaceports (Jiuquan, Taiyuan, Xichang, Wenchang) within its border, China conducts either the highest or the second highest number of orbital launches each year. It operates a satellite fleet consisting of a large number of communications, navigation, remote sensing and scientific research satellites. The scope of its activities has expanded from low Earth orbit to the Moon and Mars. China is one of the three countries, alongside the United States and Russia, with independent human spaceflight capability.\n",
      "Currently, most of the space activities carried out by China are managed by the China National Space Administration (CNSA) and the People's Liberation Army Strategic Support Force, which directs the astronaut corps and the Chinese Deep Space Network. Major programs include China Manned Space Program, BeiDou Navigation Satellite System, Chinese Lunar Exploration Program, Gaofen Observation and Planetary Exploration of China. In recent years, China has conducted several missions, including Chang'e-4, Chang'e-5, Chang’e-6, Tianwen-1 and Tiangong space station.\n",
      "- Based solely upon this information:: Page: Building information modeling\n",
      "Summary: Building information modeling  (BIM) is an approach involving the generation and management of digital representations of the physical and functional characteristics of buildings or other physical assets and facilities. BIM is supported by various tools, processes, technologies and contracts. Building information models (BIMs) are computer files (often but not always in proprietary formats and containing proprietary data) which can be extracted, exchanged or networked to support decision-making regarding a built asset. BIM software is used by individuals, businesses and government agencies who plan, design, construct, operate and maintain buildings and diverse physical infrastructures, such as water, refuse, electricity, gas, communication utilities, roads, railways, bridges, ports and tunnels.\n",
      "The concept of BIM has been in development since the 1970s, but it only became an agreed term in the early 2000s. The development of standards and the adoption of BIM has progressed at different speeds in different countries. Developed by buildingSMART, Industry Foundation Classes (IFCs) – data structures for representing information – became an international standard, ISO 16739, in 2013, and BIM process standards developed in the United Kingdom from 2007 onwards formed the basis of an international standard, ISO 19650, launched in January 2019.\n",
      "\n",
      "\n"
     ]
    }
   ],
   "source": [
    "# --- Correct setup for Wikipedia Tool ---\n",
    "from langchain.tools.wikipedia.tool import WikipediaQueryRun\n",
    "from langchain_community.utilities.wikipedia import WikipediaAPIWrapper\n",
    "\n",
    "wiki_api = WikipediaAPIWrapper(top_k_results=1, lang=\"en\")\n",
    "wiki_tool = WikipediaQueryRun(api_wrapper=wiki_api)\n",
    "\n",
    "# --- Use Wikipedia for each reasoning step ---\n",
    "\n",
    "steps_text = step_chain.invoke({\"question\": question})\n",
    "\n",
    "print(\"\\n🧠 Reasoning steps:\\n\")\n",
    "print(steps_text)\n",
    "\n",
    "# Extract lines that look like steps\n",
    "step_lines = re.findall(r\"\\d+\\.\\s+(.*)\", steps_text)\n",
    "facts = []\n",
    "\n",
    "for step in step_lines:\n",
    "    print(f\"🔍 Looking up: {step}\")\n",
    "    try:\n",
    "        result = wiki_tool.run(step)\n",
    "    except Exception as e:\n",
    "        result = f\"Error retrieving from Wikipedia: {e}\"\n",
    "    facts.append(f\"- {step.strip()}: {result}\")\n",
    "\n",
    "combined_facts = \"\\n\".join(facts)\n",
    "\n",
    "print(\"\\n📚 Retrieved facts from Wikipedia:\\n\")\n",
    "print(combined_facts)\n"
   ]
  },
  {
   "cell_type": "markdown",
   "id": "fd96c31a",
   "metadata": {},
   "source": [
    "### Parse and Retrieve Information\n",
    "We extract the steps from the reasoning response using a regular expression (`re.findall`) to match numbered steps.\n",
    "For each step, we use the `fake_lookup` function to retrieve relevant information and store the results in a list (`facts`).\n",
    "Finally, the facts are combined into a single string (`combined_facts`) for further processing."
   ]
  },
  {
   "cell_type": "markdown",
   "id": "0e5cfd6d",
   "metadata": {},
   "source": [
    "### Define Synthesis Prompt\n",
    "We define a prompt template to guide the synthesis model. The template combines the question and retrieved facts to generate a complete answer.\n",
    "The `PromptTemplate.from_template` method is used to create a structured template with placeholders for the question and facts."
   ]
  },
  {
   "cell_type": "code",
   "execution_count": 8,
   "id": "880d10b4",
   "metadata": {},
   "outputs": [],
   "source": [
    "synthesis_prompt = PromptTemplate.from_template(\"\"\"\n",
    "Based on the following question and information, write a complete answer.\n",
    "\n",
    "Question: {question}\n",
    "\n",
    "Information:\n",
    "{facts}\n",
    "\n",
    "Answer:\n",
    "\"\"\")\n",
    "synthesis_chain = synthesis_prompt | synthesis_llm"
   ]
  },
  {
   "cell_type": "markdown",
   "id": "f293d3cf",
   "metadata": {},
   "source": [
    "### Generate Final Answer\n",
    "We invoke the synthesis chain to generate the final answer based on the question and the retrieved facts.\n",
    "The `invoke` method processes the input through the synthesis chain and returns the model's response, which is the final synthesized answer."
   ]
  },
  {
   "cell_type": "code",
   "execution_count": 9,
   "id": "e48fd9a8",
   "metadata": {},
   "outputs": [
    {
     "name": "stdout",
     "output_type": "stream",
     "text": [
      "\n",
      "🧠 Final answer from synthesis model:\n",
      "\n",
      "Here’s a comprehensive answer based on the provided information, addressing the question of who the U.S. president was during the moon landing and their policy on space exploration:\n",
      "\n",
      "**Who was the U.S. president during the moon landing?**\n",
      "\n",
      "The U.S. president during the Apollo 11 moon landing was **John F. Kennedy**.\n",
      "\n",
      "**What was his policy on space exploration?**\n",
      "\n",
      "Kennedy's policy on space exploration was centered around a bold goal: to land a man on the Moon and return him safely to Earth before the end of the decade. This was a crucial part of a broader strategy to demonstrate U.S. technological superiority and secure America’s place in the “space race” against the Soviet Union.  His justification for this ambitious goal was framed within the context of the Cold War, highlighting the strategic importance of achieving a victory in this competition.\n",
      "\n",
      "**Investigate any existing policies or statements regarding space exploration from that period:**\n",
      "\n",
      "The provided information doesn’t detail specific existing policies or statements, *specifically* from the period leading up to Apollo 11. However, the context of Kennedy’s declaration and the subsequent success of the program strongly suggests a foundational policy of prioritizing space exploration as a national priority. The initial focus on the moon landing was driven by a strong national security imperative – the technological and political advantages of winning the space race. \n",
      "\n",
      "**Analyze the Chinese space program:**\n",
      "\n",
      "The information on the Chinese space program is fascinating and provides a crucial perspective on the geopolitical landscape of space.  Here’s a summary:\n",
      "\n",
      "*   **Origins:**  The roots of China’s space program trace back to the 1950s, coinciding with the Soviet Union's space race.\n",
      "*   **Early Development:** Initially, China focused on ballistic missile development.\n",
      "*   **Satellite Launch:**  China launched its first satellite, Dong Fang Hong 1, in 1970, marking a significant early step.\n",
      "*   **Rapid Expansion:**  Since then, China has rapidly expanded its space activities, including:\n",
      "    *   Orbital launches\n",
      "    *   Satellite fleet\n",
      "    *   Focus on lunar and Mars exploration\n",
      "    *   Space Station (Tiangong) – a testament to their evolving capabilities. \n",
      "\n",
      "The China National Space Administration (CNSA) is responsible for managing this program, showcasing the nation’s significant investment in space.\n",
      "\n",
      "**Based solely upon this information, the core of the information is that John F. Kennedy established the strategic goal of lunar landing as a cornerstone of US national policy during the Apollo 11 mission, thus establishing the foundation of U.S. space exploration.**\n",
      "\n",
      "**Finally, Regarding BIM (Building Information Modeling):**\n",
      "\n",
      "The provided information highlights BIM as an evolving and increasingly important field. It’s a process of generating and managing digital representations of physical assets and facilities. It’s supported by various tools, processes, technologies and contracts, driving advancements and adoption across different industries.\n"
     ]
    }
   ],
   "source": [
    "final_answer = synthesis_chain.invoke({\n",
    "    \"question\": question,\n",
    "    \"facts\": combined_facts\n",
    "})\n",
    "print(\"\\n🧠 Final answer from synthesis model:\\n\")\n",
    "print(final_answer)"
   ]
  }
 ],
 "metadata": {
  "kernelspec": {
   "display_name": ".venv",
   "language": "python",
   "name": "python3"
  },
  "language_info": {
   "codemirror_mode": {
    "name": "ipython",
    "version": 3
   },
   "file_extension": ".py",
   "mimetype": "text/x-python",
   "name": "python",
   "nbconvert_exporter": "python",
   "pygments_lexer": "ipython3",
   "version": "3.9.12"
  }
 },
 "nbformat": 4,
 "nbformat_minor": 5
}
