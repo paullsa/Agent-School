{
 "cells": [
  {
   "cell_type": "markdown",
   "id": "7c978a60",
   "metadata": {},
   "source": [
    "### LangChain Reasoning and Synthesis Demonstration\n",
    "---\n",
    "This notebook demonstrates the use of LangChain to perform reasoning tasks using local models via Ollama.\n",
    "We will break down a complex question into logical steps, retrieve relevant information for each step, and synthesize a final answer.\n",
    "\n",
    "The question we're going to answer is \"Who was the U.S. president during the moon landing, and what was his policy on space exploration?\"\n",
    "\n",
    "Let's start by installing any packages we need "
   ]
  },
  {
   "cell_type": "code",
   "execution_count": 1,
   "id": "721dc7d6",
   "metadata": {},
   "outputs": [
    {
     "name": "stdout",
     "output_type": "stream",
     "text": [
      "Requirement already satisfied: wikipedia in c:\\python\\agent-school\\.venv\\lib\\site-packages (1.4.0)\n",
      "Requirement already satisfied: beautifulsoup4 in c:\\python\\agent-school\\.venv\\lib\\site-packages (from wikipedia) (4.13.3)\n",
      "Requirement already satisfied: requests<3.0.0,>=2.0.0 in c:\\python\\agent-school\\.venv\\lib\\site-packages (from wikipedia) (2.32.3)\n",
      "Requirement already satisfied: charset-normalizer<4,>=2 in c:\\python\\agent-school\\.venv\\lib\\site-packages (from requests<3.0.0,>=2.0.0->wikipedia) (3.4.1)\n",
      "Requirement already satisfied: idna<4,>=2.5 in c:\\python\\agent-school\\.venv\\lib\\site-packages (from requests<3.0.0,>=2.0.0->wikipedia) (3.10)\n",
      "Requirement already satisfied: urllib3<3,>=1.21.1 in c:\\python\\agent-school\\.venv\\lib\\site-packages (from requests<3.0.0,>=2.0.0->wikipedia) (2.3.0)\n",
      "Requirement already satisfied: certifi>=2017.4.17 in c:\\python\\agent-school\\.venv\\lib\\site-packages (from requests<3.0.0,>=2.0.0->wikipedia) (2025.1.31)\n",
      "Requirement already satisfied: soupsieve>1.2 in c:\\python\\agent-school\\.venv\\lib\\site-packages (from beautifulsoup4->wikipedia) (2.6)\n",
      "Requirement already satisfied: typing-extensions>=4.0.0 in c:\\python\\agent-school\\.venv\\lib\\site-packages (from beautifulsoup4->wikipedia) (4.13.1)\n",
      "Requirement already satisfied: langchain in c:\\python\\agent-school\\.venv\\lib\\site-packages (0.3.23)\n",
      "Requirement already satisfied: langchain-core<1.0.0,>=0.3.51 in c:\\python\\agent-school\\.venv\\lib\\site-packages (from langchain) (0.3.51)\n",
      "Requirement already satisfied: langchain-text-splitters<1.0.0,>=0.3.8 in c:\\python\\agent-school\\.venv\\lib\\site-packages (from langchain) (0.3.8)\n",
      "Requirement already satisfied: langsmith<0.4,>=0.1.17 in c:\\python\\agent-school\\.venv\\lib\\site-packages (from langchain) (0.3.24)\n",
      "Requirement already satisfied: pydantic<3.0.0,>=2.7.4 in c:\\python\\agent-school\\.venv\\lib\\site-packages (from langchain) (2.11.2)\n",
      "Requirement already satisfied: SQLAlchemy<3,>=1.4 in c:\\python\\agent-school\\.venv\\lib\\site-packages (from langchain) (2.0.40)\n",
      "Requirement already satisfied: requests<3,>=2 in c:\\python\\agent-school\\.venv\\lib\\site-packages (from langchain) (2.32.3)\n",
      "Requirement already satisfied: PyYAML>=5.3 in c:\\python\\agent-school\\.venv\\lib\\site-packages (from langchain) (6.0.2)\n",
      "Requirement already satisfied: tenacity!=8.4.0,<10.0.0,>=8.1.0 in c:\\python\\agent-school\\.venv\\lib\\site-packages (from langchain-core<1.0.0,>=0.3.51->langchain) (9.1.2)\n",
      "Requirement already satisfied: jsonpatch<2.0,>=1.33 in c:\\python\\agent-school\\.venv\\lib\\site-packages (from langchain-core<1.0.0,>=0.3.51->langchain) (1.33)\n",
      "Requirement already satisfied: packaging<25,>=23.2 in c:\\python\\agent-school\\.venv\\lib\\site-packages (from langchain-core<1.0.0,>=0.3.51->langchain) (24.2)\n",
      "Requirement already satisfied: typing-extensions>=4.7 in c:\\python\\agent-school\\.venv\\lib\\site-packages (from langchain-core<1.0.0,>=0.3.51->langchain) (4.13.1)\n",
      "Requirement already satisfied: httpx<1,>=0.23.0 in c:\\python\\agent-school\\.venv\\lib\\site-packages (from langsmith<0.4,>=0.1.17->langchain) (0.28.1)\n",
      "Requirement already satisfied: orjson<4.0.0,>=3.9.14 in c:\\python\\agent-school\\.venv\\lib\\site-packages (from langsmith<0.4,>=0.1.17->langchain) (3.10.16)\n",
      "Requirement already satisfied: requests-toolbelt<2.0.0,>=1.0.0 in c:\\python\\agent-school\\.venv\\lib\\site-packages (from langsmith<0.4,>=0.1.17->langchain) (1.0.0)\n",
      "Requirement already satisfied: zstandard<0.24.0,>=0.23.0 in c:\\python\\agent-school\\.venv\\lib\\site-packages (from langsmith<0.4,>=0.1.17->langchain) (0.23.0)\n",
      "Requirement already satisfied: annotated-types>=0.6.0 in c:\\python\\agent-school\\.venv\\lib\\site-packages (from pydantic<3.0.0,>=2.7.4->langchain) (0.7.0)\n",
      "Requirement already satisfied: pydantic-core==2.33.1 in c:\\python\\agent-school\\.venv\\lib\\site-packages (from pydantic<3.0.0,>=2.7.4->langchain) (2.33.1)\n",
      "Requirement already satisfied: typing-inspection>=0.4.0 in c:\\python\\agent-school\\.venv\\lib\\site-packages (from pydantic<3.0.0,>=2.7.4->langchain) (0.4.0)\n",
      "Requirement already satisfied: charset-normalizer<4,>=2 in c:\\python\\agent-school\\.venv\\lib\\site-packages (from requests<3,>=2->langchain) (3.4.1)\n",
      "Requirement already satisfied: idna<4,>=2.5 in c:\\python\\agent-school\\.venv\\lib\\site-packages (from requests<3,>=2->langchain) (3.10)\n",
      "Requirement already satisfied: urllib3<3,>=1.21.1 in c:\\python\\agent-school\\.venv\\lib\\site-packages (from requests<3,>=2->langchain) (2.3.0)\n",
      "Requirement already satisfied: certifi>=2017.4.17 in c:\\python\\agent-school\\.venv\\lib\\site-packages (from requests<3,>=2->langchain) (2025.1.31)\n",
      "Requirement already satisfied: greenlet>=1 in c:\\python\\agent-school\\.venv\\lib\\site-packages (from SQLAlchemy<3,>=1.4->langchain) (3.1.1)\n",
      "Requirement already satisfied: anyio in c:\\python\\agent-school\\.venv\\lib\\site-packages (from httpx<1,>=0.23.0->langsmith<0.4,>=0.1.17->langchain) (4.9.0)\n",
      "Requirement already satisfied: httpcore==1.* in c:\\python\\agent-school\\.venv\\lib\\site-packages (from httpx<1,>=0.23.0->langsmith<0.4,>=0.1.17->langchain) (1.0.7)\n",
      "Requirement already satisfied: h11<0.15,>=0.13 in c:\\python\\agent-school\\.venv\\lib\\site-packages (from httpcore==1.*->httpx<1,>=0.23.0->langsmith<0.4,>=0.1.17->langchain) (0.14.0)\n",
      "Requirement already satisfied: jsonpointer>=1.9 in c:\\python\\agent-school\\.venv\\lib\\site-packages (from jsonpatch<2.0,>=1.33->langchain-core<1.0.0,>=0.3.51->langchain) (3.0.0)\n",
      "Requirement already satisfied: sniffio>=1.1 in c:\\python\\agent-school\\.venv\\lib\\site-packages (from anyio->httpx<1,>=0.23.0->langsmith<0.4,>=0.1.17->langchain) (1.3.1)\n",
      "Requirement already satisfied: langchain_community in c:\\python\\agent-school\\.venv\\lib\\site-packages (0.3.21)\n",
      "Requirement already satisfied: langchain-core<1.0.0,>=0.3.51 in c:\\python\\agent-school\\.venv\\lib\\site-packages (from langchain_community) (0.3.51)\n",
      "Requirement already satisfied: langchain<1.0.0,>=0.3.23 in c:\\python\\agent-school\\.venv\\lib\\site-packages (from langchain_community) (0.3.23)\n",
      "Requirement already satisfied: SQLAlchemy<3,>=1.4 in c:\\python\\agent-school\\.venv\\lib\\site-packages (from langchain_community) (2.0.40)\n",
      "Requirement already satisfied: requests<3,>=2 in c:\\python\\agent-school\\.venv\\lib\\site-packages (from langchain_community) (2.32.3)\n",
      "Requirement already satisfied: PyYAML>=5.3 in c:\\python\\agent-school\\.venv\\lib\\site-packages (from langchain_community) (6.0.2)\n",
      "Requirement already satisfied: aiohttp<4.0.0,>=3.8.3 in c:\\python\\agent-school\\.venv\\lib\\site-packages (from langchain_community) (3.11.16)\n",
      "Requirement already satisfied: tenacity!=8.4.0,<10,>=8.1.0 in c:\\python\\agent-school\\.venv\\lib\\site-packages (from langchain_community) (9.1.2)\n",
      "Requirement already satisfied: dataclasses-json<0.7,>=0.5.7 in c:\\python\\agent-school\\.venv\\lib\\site-packages (from langchain_community) (0.6.7)\n",
      "Requirement already satisfied: pydantic-settings<3.0.0,>=2.4.0 in c:\\python\\agent-school\\.venv\\lib\\site-packages (from langchain_community) (2.8.1)\n",
      "Requirement already satisfied: langsmith<0.4,>=0.1.125 in c:\\python\\agent-school\\.venv\\lib\\site-packages (from langchain_community) (0.3.24)\n",
      "Requirement already satisfied: httpx-sse<1.0.0,>=0.4.0 in c:\\python\\agent-school\\.venv\\lib\\site-packages (from langchain_community) (0.4.0)\n",
      "Requirement already satisfied: numpy<3,>=1.26.2 in c:\\python\\agent-school\\.venv\\lib\\site-packages (from langchain_community) (2.2.4)\n",
      "Requirement already satisfied: aiohappyeyeballs>=2.3.0 in c:\\python\\agent-school\\.venv\\lib\\site-packages (from aiohttp<4.0.0,>=3.8.3->langchain_community) (2.6.1)\n",
      "Requirement already satisfied: aiosignal>=1.1.2 in c:\\python\\agent-school\\.venv\\lib\\site-packages (from aiohttp<4.0.0,>=3.8.3->langchain_community) (1.3.2)\n",
      "Requirement already satisfied: attrs>=17.3.0 in c:\\python\\agent-school\\.venv\\lib\\site-packages (from aiohttp<4.0.0,>=3.8.3->langchain_community) (25.3.0)\n",
      "Requirement already satisfied: frozenlist>=1.1.1 in c:\\python\\agent-school\\.venv\\lib\\site-packages (from aiohttp<4.0.0,>=3.8.3->langchain_community) (1.5.0)\n",
      "Requirement already satisfied: multidict<7.0,>=4.5 in c:\\python\\agent-school\\.venv\\lib\\site-packages (from aiohttp<4.0.0,>=3.8.3->langchain_community) (6.3.2)\n",
      "Requirement already satisfied: propcache>=0.2.0 in c:\\python\\agent-school\\.venv\\lib\\site-packages (from aiohttp<4.0.0,>=3.8.3->langchain_community) (0.3.1)\n",
      "Requirement already satisfied: yarl<2.0,>=1.17.0 in c:\\python\\agent-school\\.venv\\lib\\site-packages (from aiohttp<4.0.0,>=3.8.3->langchain_community) (1.19.0)\n",
      "Requirement already satisfied: marshmallow<4.0.0,>=3.18.0 in c:\\python\\agent-school\\.venv\\lib\\site-packages (from dataclasses-json<0.7,>=0.5.7->langchain_community) (3.26.1)\n",
      "Requirement already satisfied: typing-inspect<1,>=0.4.0 in c:\\python\\agent-school\\.venv\\lib\\site-packages (from dataclasses-json<0.7,>=0.5.7->langchain_community) (0.9.0)\n",
      "Requirement already satisfied: langchain-text-splitters<1.0.0,>=0.3.8 in c:\\python\\agent-school\\.venv\\lib\\site-packages (from langchain<1.0.0,>=0.3.23->langchain_community) (0.3.8)\n",
      "Requirement already satisfied: pydantic<3.0.0,>=2.7.4 in c:\\python\\agent-school\\.venv\\lib\\site-packages (from langchain<1.0.0,>=0.3.23->langchain_community) (2.11.2)\n",
      "Requirement already satisfied: jsonpatch<2.0,>=1.33 in c:\\python\\agent-school\\.venv\\lib\\site-packages (from langchain-core<1.0.0,>=0.3.51->langchain_community) (1.33)\n",
      "Requirement already satisfied: packaging<25,>=23.2 in c:\\python\\agent-school\\.venv\\lib\\site-packages (from langchain-core<1.0.0,>=0.3.51->langchain_community) (24.2)\n",
      "Requirement already satisfied: typing-extensions>=4.7 in c:\\python\\agent-school\\.venv\\lib\\site-packages (from langchain-core<1.0.0,>=0.3.51->langchain_community) (4.13.1)\n",
      "Requirement already satisfied: httpx<1,>=0.23.0 in c:\\python\\agent-school\\.venv\\lib\\site-packages (from langsmith<0.4,>=0.1.125->langchain_community) (0.28.1)\n",
      "Requirement already satisfied: orjson<4.0.0,>=3.9.14 in c:\\python\\agent-school\\.venv\\lib\\site-packages (from langsmith<0.4,>=0.1.125->langchain_community) (3.10.16)\n",
      "Requirement already satisfied: requests-toolbelt<2.0.0,>=1.0.0 in c:\\python\\agent-school\\.venv\\lib\\site-packages (from langsmith<0.4,>=0.1.125->langchain_community) (1.0.0)\n",
      "Requirement already satisfied: zstandard<0.24.0,>=0.23.0 in c:\\python\\agent-school\\.venv\\lib\\site-packages (from langsmith<0.4,>=0.1.125->langchain_community) (0.23.0)\n",
      "Requirement already satisfied: python-dotenv>=0.21.0 in c:\\python\\agent-school\\.venv\\lib\\site-packages (from pydantic-settings<3.0.0,>=2.4.0->langchain_community) (1.1.0)\n",
      "Requirement already satisfied: charset-normalizer<4,>=2 in c:\\python\\agent-school\\.venv\\lib\\site-packages (from requests<3,>=2->langchain_community) (3.4.1)\n",
      "Requirement already satisfied: idna<4,>=2.5 in c:\\python\\agent-school\\.venv\\lib\\site-packages (from requests<3,>=2->langchain_community) (3.10)\n",
      "Requirement already satisfied: urllib3<3,>=1.21.1 in c:\\python\\agent-school\\.venv\\lib\\site-packages (from requests<3,>=2->langchain_community) (2.3.0)\n",
      "Requirement already satisfied: certifi>=2017.4.17 in c:\\python\\agent-school\\.venv\\lib\\site-packages (from requests<3,>=2->langchain_community) (2025.1.31)\n",
      "Requirement already satisfied: greenlet>=1 in c:\\python\\agent-school\\.venv\\lib\\site-packages (from SQLAlchemy<3,>=1.4->langchain_community) (3.1.1)\n",
      "Requirement already satisfied: anyio in c:\\python\\agent-school\\.venv\\lib\\site-packages (from httpx<1,>=0.23.0->langsmith<0.4,>=0.1.125->langchain_community) (4.9.0)\n",
      "Requirement already satisfied: httpcore==1.* in c:\\python\\agent-school\\.venv\\lib\\site-packages (from httpx<1,>=0.23.0->langsmith<0.4,>=0.1.125->langchain_community) (1.0.7)\n",
      "Requirement already satisfied: h11<0.15,>=0.13 in c:\\python\\agent-school\\.venv\\lib\\site-packages (from httpcore==1.*->httpx<1,>=0.23.0->langsmith<0.4,>=0.1.125->langchain_community) (0.14.0)\n",
      "Requirement already satisfied: jsonpointer>=1.9 in c:\\python\\agent-school\\.venv\\lib\\site-packages (from jsonpatch<2.0,>=1.33->langchain-core<1.0.0,>=0.3.51->langchain_community) (3.0.0)\n",
      "Requirement already satisfied: annotated-types>=0.6.0 in c:\\python\\agent-school\\.venv\\lib\\site-packages (from pydantic<3.0.0,>=2.7.4->langchain<1.0.0,>=0.3.23->langchain_community) (0.7.0)\n",
      "Requirement already satisfied: pydantic-core==2.33.1 in c:\\python\\agent-school\\.venv\\lib\\site-packages (from pydantic<3.0.0,>=2.7.4->langchain<1.0.0,>=0.3.23->langchain_community) (2.33.1)\n",
      "Requirement already satisfied: typing-inspection>=0.4.0 in c:\\python\\agent-school\\.venv\\lib\\site-packages (from pydantic<3.0.0,>=2.7.4->langchain<1.0.0,>=0.3.23->langchain_community) (0.4.0)\n",
      "Requirement already satisfied: mypy-extensions>=0.3.0 in c:\\python\\agent-school\\.venv\\lib\\site-packages (from typing-inspect<1,>=0.4.0->dataclasses-json<0.7,>=0.5.7->langchain_community) (1.0.0)\n",
      "Requirement already satisfied: sniffio>=1.1 in c:\\python\\agent-school\\.venv\\lib\\site-packages (from anyio->httpx<1,>=0.23.0->langsmith<0.4,>=0.1.125->langchain_community) (1.3.1)\n",
      "Requirement already satisfied: langchain_ollama in c:\\python\\agent-school\\.venv\\lib\\site-packages (0.3.0)\n",
      "Requirement already satisfied: ollama<1,>=0.4.4 in c:\\python\\agent-school\\.venv\\lib\\site-packages (from langchain_ollama) (0.4.7)\n",
      "Requirement already satisfied: langchain-core<1.0.0,>=0.3.47 in c:\\python\\agent-school\\.venv\\lib\\site-packages (from langchain_ollama) (0.3.51)\n",
      "Requirement already satisfied: langsmith<0.4,>=0.1.125 in c:\\python\\agent-school\\.venv\\lib\\site-packages (from langchain-core<1.0.0,>=0.3.47->langchain_ollama) (0.3.24)\n",
      "Requirement already satisfied: tenacity!=8.4.0,<10.0.0,>=8.1.0 in c:\\python\\agent-school\\.venv\\lib\\site-packages (from langchain-core<1.0.0,>=0.3.47->langchain_ollama) (9.1.2)\n",
      "Requirement already satisfied: jsonpatch<2.0,>=1.33 in c:\\python\\agent-school\\.venv\\lib\\site-packages (from langchain-core<1.0.0,>=0.3.47->langchain_ollama) (1.33)\n",
      "Requirement already satisfied: PyYAML>=5.3 in c:\\python\\agent-school\\.venv\\lib\\site-packages (from langchain-core<1.0.0,>=0.3.47->langchain_ollama) (6.0.2)\n",
      "Requirement already satisfied: packaging<25,>=23.2 in c:\\python\\agent-school\\.venv\\lib\\site-packages (from langchain-core<1.0.0,>=0.3.47->langchain_ollama) (24.2)\n",
      "Requirement already satisfied: typing-extensions>=4.7 in c:\\python\\agent-school\\.venv\\lib\\site-packages (from langchain-core<1.0.0,>=0.3.47->langchain_ollama) (4.13.1)\n",
      "Requirement already satisfied: pydantic<3.0.0,>=2.5.2 in c:\\python\\agent-school\\.venv\\lib\\site-packages (from langchain-core<1.0.0,>=0.3.47->langchain_ollama) (2.11.2)\n",
      "Requirement already satisfied: httpx<0.29,>=0.27 in c:\\python\\agent-school\\.venv\\lib\\site-packages (from ollama<1,>=0.4.4->langchain_ollama) (0.28.1)\n",
      "Requirement already satisfied: anyio in c:\\python\\agent-school\\.venv\\lib\\site-packages (from httpx<0.29,>=0.27->ollama<1,>=0.4.4->langchain_ollama) (4.9.0)\n",
      "Requirement already satisfied: certifi in c:\\python\\agent-school\\.venv\\lib\\site-packages (from httpx<0.29,>=0.27->ollama<1,>=0.4.4->langchain_ollama) (2025.1.31)\n",
      "Requirement already satisfied: httpcore==1.* in c:\\python\\agent-school\\.venv\\lib\\site-packages (from httpx<0.29,>=0.27->ollama<1,>=0.4.4->langchain_ollama) (1.0.7)\n",
      "Requirement already satisfied: idna in c:\\python\\agent-school\\.venv\\lib\\site-packages (from httpx<0.29,>=0.27->ollama<1,>=0.4.4->langchain_ollama) (3.10)\n",
      "Requirement already satisfied: h11<0.15,>=0.13 in c:\\python\\agent-school\\.venv\\lib\\site-packages (from httpcore==1.*->httpx<0.29,>=0.27->ollama<1,>=0.4.4->langchain_ollama) (0.14.0)\n",
      "Requirement already satisfied: jsonpointer>=1.9 in c:\\python\\agent-school\\.venv\\lib\\site-packages (from jsonpatch<2.0,>=1.33->langchain-core<1.0.0,>=0.3.47->langchain_ollama) (3.0.0)\n",
      "Requirement already satisfied: orjson<4.0.0,>=3.9.14 in c:\\python\\agent-school\\.venv\\lib\\site-packages (from langsmith<0.4,>=0.1.125->langchain-core<1.0.0,>=0.3.47->langchain_ollama) (3.10.16)\n",
      "Requirement already satisfied: requests<3,>=2 in c:\\python\\agent-school\\.venv\\lib\\site-packages (from langsmith<0.4,>=0.1.125->langchain-core<1.0.0,>=0.3.47->langchain_ollama) (2.32.3)\n",
      "Requirement already satisfied: requests-toolbelt<2.0.0,>=1.0.0 in c:\\python\\agent-school\\.venv\\lib\\site-packages (from langsmith<0.4,>=0.1.125->langchain-core<1.0.0,>=0.3.47->langchain_ollama) (1.0.0)\n",
      "Requirement already satisfied: zstandard<0.24.0,>=0.23.0 in c:\\python\\agent-school\\.venv\\lib\\site-packages (from langsmith<0.4,>=0.1.125->langchain-core<1.0.0,>=0.3.47->langchain_ollama) (0.23.0)\n",
      "Requirement already satisfied: annotated-types>=0.6.0 in c:\\python\\agent-school\\.venv\\lib\\site-packages (from pydantic<3.0.0,>=2.5.2->langchain-core<1.0.0,>=0.3.47->langchain_ollama) (0.7.0)\n",
      "Requirement already satisfied: pydantic-core==2.33.1 in c:\\python\\agent-school\\.venv\\lib\\site-packages (from pydantic<3.0.0,>=2.5.2->langchain-core<1.0.0,>=0.3.47->langchain_ollama) (2.33.1)\n",
      "Requirement already satisfied: typing-inspection>=0.4.0 in c:\\python\\agent-school\\.venv\\lib\\site-packages (from pydantic<3.0.0,>=2.5.2->langchain-core<1.0.0,>=0.3.47->langchain_ollama) (0.4.0)\n",
      "Requirement already satisfied: charset-normalizer<4,>=2 in c:\\python\\agent-school\\.venv\\lib\\site-packages (from requests<3,>=2->langsmith<0.4,>=0.1.125->langchain-core<1.0.0,>=0.3.47->langchain_ollama) (3.4.1)\n",
      "Requirement already satisfied: urllib3<3,>=1.21.1 in c:\\python\\agent-school\\.venv\\lib\\site-packages (from requests<3,>=2->langsmith<0.4,>=0.1.125->langchain-core<1.0.0,>=0.3.47->langchain_ollama) (2.3.0)\n",
      "Requirement already satisfied: sniffio>=1.1 in c:\\python\\agent-school\\.venv\\lib\\site-packages (from anyio->httpx<0.29,>=0.27->ollama<1,>=0.4.4->langchain_ollama) (1.3.1)\n"
     ]
    }
   ],
   "source": [
    "!pip install wikipedia\n",
    "!pip install langchain\n",
    "!pip install langchain_community\n",
    "!pip install langchain_ollama"
   ]
  },
  {
   "cell_type": "markdown",
   "id": "aa4c9e19",
   "metadata": {},
   "source": [
    "Import any modules required"
   ]
  },
  {
   "cell_type": "code",
   "execution_count": 2,
   "id": "766a0570",
   "metadata": {},
   "outputs": [],
   "source": [
    "# The `try` block ensures any imports are loaded successfully, and if there is an error during import, it will be caught and printed. This is useful for debugging and ensuring that the necessary libraries are available before running the main code.\n",
    "\n",
    "try:\n",
    "    # Imports\n",
    "    from langchain_ollama import OllamaLLM\n",
    "    from langchain.prompts import PromptTemplate\n",
    "    from langchain_core.runnables import RunnableMap\n",
    "    import re\n",
    "except ImportError as e:\n",
    "    print(f\"ImportError occurred: {e}\")\n",
    "except Exception as e:\n",
    "    print(f\"Unexpected error during import: {e}\")"
   ]
  },
  {
   "cell_type": "markdown",
   "id": "fbe98181",
   "metadata": {},
   "source": [
    "### Load Local Reasoning and Synthesis Models\n",
    "Here, we initialize two models using Ollama:\n",
    "- **Reasoning Model (`phi4-mini`)**: Used to break down questions into logical steps.\n",
    "- **Synthesis Model (`Gemma3:1b`)**: Used to synthesize a final answer based on retrieved information.\n",
    "The `try` block ensures that the models are loaded successfully, and if there is an error (e.g., Ollama is not running), it provides helpful debugging information."
   ]
  },
  {
   "cell_type": "code",
   "execution_count": 3,
   "id": "39a17818",
   "metadata": {},
   "outputs": [],
   "source": [
    "try:\n",
    "    reasoning_llm = OllamaLLM(model=\"phi4-mini\")\n",
    "    synthesis_llm = OllamaLLM(model=\"Gemma3:1b\")\n",
    "except Exception as e:\n",
    "    print(\"❌ Failed to connect to Ollama or load model 'phi4-mini'.\")\n",
    "    print(\"💡 Make sure Ollama is running and the model is available:\")\n",
    "    print(\"    ollama run phi4-mini\")\n",
    "    print(f\"Error details: {e}\")\n",
    "    exit(1)"
   ]
  },
  {
   "cell_type": "markdown",
   "id": "ab44b631",
   "metadata": {},
   "source": [
    "### Define Reasoning Prompt\n",
    "We define a prompt template to guide the reasoning model. The template instructs the model to break down a given question into logical steps.\n",
    "The `PromptTemplate.from_template` method allows us to create a reusable template with placeholders (e.g., `{question}`) that can be dynamically filled with input data."
   ]
  },
  {
   "cell_type": "code",
   "execution_count": 4,
   "id": "b1081e96",
   "metadata": {},
   "outputs": [],
   "source": [
    "reasoning_prompt = PromptTemplate.from_template(\"\"\"\n",
    "You are a reasoning assistant. Break the following question into logical steps. Use the provided information to answer the question:\n",
    "\n",
    "Question: {question}\n",
    "\n",
    "Step-by-step breakdown:\n",
    "\"\"\")"
   ]
  },
  {
   "cell_type": "markdown",
   "id": "574fa5f4",
   "metadata": {},
   "source": [
    "### Chain Prompt and Model\n",
    "We use LangChain's Expression Language to chain the reasoning prompt with the reasoning model. This creates a pipeline where the input question is first processed by the prompt and then passed to the reasoning model for step-by-step breakdown."
   ]
  },
  {
   "cell_type": "code",
   "execution_count": 5,
   "id": "b22c7281",
   "metadata": {},
   "outputs": [],
   "source": [
    "step_chain = reasoning_prompt | reasoning_llm"
   ]
  },
  {
   "cell_type": "markdown",
   "id": "86ed0590",
   "metadata": {},
   "source": [
    "### Invoke Reasoning Chain\n",
    "We provide a question to the reasoning chain and invoke it to generate a step-by-step breakdown of the question.\n",
    "The `invoke` method processes the input through the chain and returns the model's response."
   ]
  },
  {
   "cell_type": "code",
   "execution_count": 6,
   "id": "fdfb2323",
   "metadata": {},
   "outputs": [
    {
     "name": "stdout",
     "output_type": "stream",
     "text": [
      "💡 Reasoning steps from the model:\n",
      "\n",
      "To find out who was the President of the United States (U.S.) at the time of Neil Armstrong's first step onto the Moon in 1969 as well as their policies regarding space exploration:\n",
      "\n",
      "1. Identify when Apollo 11 landed: The moon landing occurred during NASA’s Apollo program, specifically on July 20th, 1969.\n",
      "2. Determine who was President then: Research indicates that Richard Nixon served two terms and his second term overlapped with the time of this significant event in U.S space exploration history.\n",
      "\n",
      "Based on these steps:\n",
      "\n",
      "- Richard Nixon (President) \n",
      "\n",
      "As for Nixon's policy regarding Space Exploration:\n",
      "3. Analyze major policies announced or enacted by John F. Kennedy prior to Nixon taking office: In 1961, President Johnson declared an ambitious goal that NASA was tasked with sending a manned mission to the moon and returning him safely before December of any year.\n",
      "4. Check what followed after these goals were set in place during Jimmy Carter's presidency (1977-1981): After Kennedy’s era ended there is not much significant policy change, but Nixon maintained support for space exploration as part of his broader scientific agenda.\n",
      "\n",
      "Based on this information:\n",
      "\n",
      "Richard Nixon was the U.S president at NASA Apollo 11 moon landing and he upheld JFK policies about Space Exploration.\n"
     ]
    }
   ],
   "source": [
    "question = \"Who was the U.S. president during the moon landing, and what was his policy on space exploration?\"\n",
    "response = step_chain.invoke({\"question\": question})\n",
    "print(\"💡 Reasoning steps from the model:\\n\")\n",
    "print(response)"
   ]
  },
  {
   "cell_type": "markdown",
   "id": "27b48dc0",
   "metadata": {},
   "source": [
    "### Call the Wikidpedia API\n",
    "This code uses LangChain tools to interact with Wikipedia. It breaks a question into reasoning steps, retrieves facts from Wikipedia for each step, and displays the results.\n",
    "\n",
    "### Key Steps\n",
    "\n",
    "1. **Initialize Tools**: Set up `WikipediaAPIWrapper` and `WikipediaQueryRun` for Wikipedia lookups.\n",
    "2. **Process Question**: Use `step_chain.invoke()` to break the question into steps.\n",
    "3. **Retrieve Facts**: Look up each step using the Wikipedia tool, handle errors, and collect results.\n",
    "4. **Display Results**: Combine retrieved facts into a single output and print them.\n",
    "\n",
    "### Parse and Retrieve Information\n",
    "In this step, we extract reasoning steps from the output of step_chain.invoke() using a regular expression (re.findall). The regular expression is designed to match the lines containing the numbered steps of reasoning.\n",
    "\n",
    "For each extracted step, we use the wiki_tool.run() method to perform a Wikipedia lookup. If any errors occur during the lookup, they are caught and handled gracefully by capturing the exception. The result of each lookup (whether it’s a fact from Wikipedia or an error message) is stored in a list called facts.\n",
    "\n",
    "Once all the steps have been processed, the individual facts are combined into a single string (combined_facts) and printed for further review or processing."
   ]
  },
  {
   "cell_type": "code",
   "execution_count": 7,
   "id": "99923252",
   "metadata": {},
   "outputs": [
    {
     "name": "stdout",
     "output_type": "stream",
     "text": [
      "\n",
      "🧠 Reasoning steps:\n",
      "\n",
      "Sure! Let's break down this problem step by step.\n",
      "\n",
      "1. Identify when NASA's Apollo 11 mission successfully landed humans on the Moon.\n",
      "   - The successful manned lunar landing occurred in July 1969 (July 20th specifically).\n",
      "\n",
      "2. Determine which U.S. president was serving at that time:\n",
      "   - Richard Nixon served as President of the United States from January 20, 1969 to August 9, 1974.\n",
      "\n",
      "3. Investigate Dick Cheney's involvement during this period in terms of his role and activities.\n",
      "   - As George H.W. Bush had not yet been elected (he would take office later), Richard Nixon was clearly serving as the president at that time since he held presidential duties until leaving for retirement before Reagan took over directly.\n",
      "\n",
      "4. Look into Dick Cheney's background:\n",
      "   - In this context, it's important to note that there is no direct evidence linking George H.W. Bush and space exploration during his early career stage prior to becoming Vice President in 1976 (serving as VP under Gerald Ford until January 20th).\n",
      "\n",
      "5. Determine the policy of Richard Nixon on space exploration:\n",
      "   - During this era, after Apollo missions concluded with limited manned lunar landings primarily focused by NASA for scientific investigation and technology development.\n",
      "\n",
      "Answer: \n",
      "Richard Nixon was U.S. president during the moon landing (July 1969), but George H.W. Bush had not yet entered politics or held any significant role in space exploration policies at that time; Richard's policy on continuing Apollo missions while pushing new technological ventures into unmanned lunar explorations and advancements were focused for scientific achievements rather than militarization.\n",
      "\n",
      "\n",
      "🔍 Looking up: Identify when NASA's Apollo 11 mission successfully landed humans on the Moon.\n",
      "🔍 Looking up: Determine which U.S. president was serving at that time:\n",
      "🔍 Looking up: 3. Investigate Dick Cheney's involvement during this period in terms of his role and activities.\n",
      "🔍 Looking up: Look into Dick Cheney's background:\n",
      "🔍 Looking up: Determine the policy of Richard Nixon on space exploration:\n",
      "\n",
      "📚 Retrieved facts from Wikipedia:\n",
      "\n",
      "- Identify when NASA's Apollo 11 mission successfully landed humans on the Moon.: Page: Apollo 11\n",
      "Summary: Apollo 11 was a spaceflight conducted from July 16 to 24, 1969, by the United States and launched by NASA. It marked the first time that humans landed on the Moon. Commander Neil Armstrong and Lunar Module Pilot Buzz Aldrin landed the Apollo Lunar Module Eagle on July 20, 1969, at 20:17 UTC, and Armstrong became the first person to step onto the Moon's surface six hours and 39 minutes later, on July 21 at 02:56 UTC. Aldrin joined him 19 minutes later, and they spent about two and a quarter hours together exploring the site they had named Tranquility Base upon landing. Armstrong and Aldrin collected 47.5 pounds (21.5 kg) of lunar material to bring back to Earth as pilot Michael Collins flew the Command Module Columbia in lunar orbit, and were on the Moon's surface for 21 hours, 36 minutes, before lifting off to rejoin Columbia.\n",
      "Apollo 11 was launched by a Saturn V rocket from Kennedy Space Center on Merritt Island, Florida, on July 16 at 13:32 UTC. It was the fifth crewed mission of NASA's Apollo program. The Apollo spacecraft had three parts: a command module (CM) with a cabin for the three astronauts, the only part that returned to Earth; a service module (SM), which supported the command module with propulsion, electrical power, oxygen, and water; and a lunar module (LM) that had two stages—a descent stage for landing on the Moon and an ascent stage to place the astronauts back into lunar orbit.\n",
      "After being sent to the Moon by the Saturn V's third stage, the astronauts separated the spacecraft from it and traveled for three days until they entered lunar orbit. Armstrong and Aldrin then moved into Eagle and landed in the Sea of Tranquility on July 20. The astronauts used Eagle's ascent stage to lift off from the lunar surface and rejoin Collins in the command module. They jettisoned Eagle before they performed the maneuvers that propelled Columbia out of the last of its 30 lunar orbits onto a trajectory back to Earth. They returned to Earth and splashed down in the Pacific Ocean on July 24 after more than eight days in space.\n",
      "Armstrong's first step onto the lunar surface was broadcast on live TV to a worldwide audience. He described the event as \"one small step for [a] man, one giant leap for mankind.\" Apollo 11 effectively proved U.S. victory in the Space Race to demonstrate spaceflight superiority, by fulfilling a national goal proposed in 1961 by President John F. Kennedy, \"before this decade is out, of landing a man on the Moon and returning him safely to the Earth.\"\n",
      "\n",
      "\n",
      "- Determine which U.S. president was serving at that time:: Page: President of the United States\n",
      "Summary: The president of the United States (POTUS) is the head of state and head of government of the United States. The president directs the executive branch of the federal government and is the commander-in-chief of the United States Armed Forces.\n",
      "The power of the presidency has grown substantially since the first president, George Washington, took office in 1789. While presidential power has ebbed and flowed over time, the presidency has played an increasingly significant role in American political life since the beginning of the 20th century, carrying over into the 21st century with notable expansions during the presidencies of Franklin D. Roosevelt and George W. Bush and the second presidency of Donald Trump. In modern times, the president is one of the world's most powerful political figures and the leader of the world's only remaining superpower. As the leader of the nation with the largest economy by nominal GDP, the president possesses significant domestic and international hard and soft power. For much of the 20th century, especially during the Cold War, the U.S. president was often called \"the leader of the free world\".\n",
      "Article II of the Constitution establishes the executive branch of the federal government and vests executive power in the president. The power includes the execution and enforcement of federal law and the responsibility to appoint federal executive, diplomatic, regulatory, and judicial officers.  Based on constitutional provisions empowering the president to appoint and receive ambassadors and conclude treaties with foreign powers, and on subsequent laws enacted by Congress, the modern presidency has primary responsibility for conducting U.S. foreign policy. The role includes responsibility for directing the world's most expensive military, which has the second-largest nuclear arsenal.\n",
      "The president also plays a leading role in federal legislation and domestic policymaking. As part of the system of separation of powers, Article I, Section 7 of the Constitution gives the president the power to sign or veto federal legislation. Since modern presidents are typically viewed as leaders of their political parties, major policymaking is significantly shaped by the outcome of presidential elections, with presidents taking an active role in promoting their policy priorities to members of Congress who are often electorally dependent on the president. In recent decades, presidents have also made increasing use of executive orders, agency regulations, and judicial appointments to shape domestic policy.\n",
      "The president is elected indirectly through the Electoral College to a four-year term, along with the vice president. Under the Twenty-second Amendment, ratified in 1951, no person who has been elected to two presidential terms may be elected to a third. In addition, nine vice presidents have become president by virtue of a president's intra-term death or resignation. In all, 45 individuals have served 47 presidencies spanning 60 four-year terms. Donald Trump is the 47th and current president since January 20, 2025.\n",
      "- 3. Investigate Dick Cheney's involvement during this period in terms of his role and activities.: Page: Dick Cheney\n",
      "Summary: Richard Bruce Cheney ( CHAY-nee; born January 30, 1941) is an American former politician and businessman who served as the 46th vice president of the United States from 2001 to 2009 under President George W. Bush. He has been called the most powerful vice president in American history. Cheney previously served as White House Chief of Staff for President Gerald Ford, the U.S. representative for Wyoming's at-large congressional district from 1979 to 1989, and as the 17th United States secretary of defense in the administration of President George H. W. Bush.\n",
      "Born in Lincoln, Nebraska, Cheney grew up there and in Casper, Wyoming. He attended Yale University before earning a Bachelor of Arts and Master of Arts in political science from the University of Wyoming. He began his political career as an intern for Congressman William A. Steiger, eventually working his way into the White House during the Nixon and Ford administrations. He served as White House chief of staff from 1975 to 1977. In 1978, he was elected to the U.S. House of Representatives, and represented Wyoming's at-large congressional district from 1979 to 1989, briefly serving as House minority whip in 1989. He was appointed Secretary of Defense during the presidency of George H. W. Bush, and held the position for most of Bush's term from 1989 to 1993. As secretary, he oversaw Operation Just Cause in 1989 and Operation Desert Storm in 1991. While out of office during the Clinton administration, he was the chairman and CEO of Halliburton from 1995 to 2000.\n",
      "In July 2000, Cheney was chosen by presumptive Republican presidential nominee George W. Bush as his running mate in the 2000 presidential election. They defeated their Democratic opponents, incumbent vice president Al Gore and senator Joe Lieberman. In 2004, Cheney was reelected to his second term as vice president with Bush as president, defeating their Democratic opponents Senators John Kerry and John Edwards. During Cheney's tenure as vice president, he played a leading behind-the-scenes role in the George W. Bush administration's response to the September 11 attacks and coordination of the Global War on Terrorism. He was an early proponent of invading Iraq, alleging that the Saddam Hussein regime possessed weapons of mass destruction program and had an operational relationship with Al-Qaeda; however, neither allegation was ever substantiated. He also pressured the intelligence community to provide intelligence consistent with the administration's rationales for invading Iraq. Cheney was often criticized for the Bush administration's policies regarding the campaign against terrorism, for his support of wiretapping by the National Security Agency (NSA) and for his endorsement of the U.S.'s \"enhanced interrogation\" torture program. He publicly disagreed with President Bush's position against same-sex marriage in 2004, but also said it is \"appropriately a matter for the states to decide\".\n",
      "Cheney ended his vice presidential tenure as a deeply unpopular figure in American politics with an approval rating of 13 percent. His peak approval rating in the wake of the September 11 attacks was 68 percent. Since leaving the vice presidency, Cheney has been critical of modern Republican leadership, including Donald Trump, going as far as to endorse Trump's challenger in 2024, Democrat Kamala Harris. He is the oldest living former U.S. vice president, following the death of Walter Mondale in 2021.\n",
      "- Look into Dick Cheney's background:: Page: Angler: The Cheney Vice Presidency\n",
      "Summary: Angler: The Cheney Vice Presidency is a 2008 book by Washington Post investigative reporter Barton Gellman. Presenting information in a narrative fashion, Gellman asserts that United States Vice President Dick Cheney misled Republican leaders about the threat of Iraq before the invasion of Iraq by the United States. The book levels several allegations against Cheney and his administration. The book is based on hundreds of previously unpublished interviews with high-ranking government officials.\n",
      "- Determine the policy of Richard Nixon on space exploration:: Page: Richard Nixon 1968 presidential campaign\n",
      "Summary: The 1968 presidential campaign of Richard Nixon, the 36th vice president of the United States, began when Nixon, the Republican nominee of 1960, formally announced his candidacy, following a year's preparation and five years' political reorganization after defeats in the 1960 presidential election and the 1962 California gubernatorial election.\n",
      "En route to the Republican Party's presidential nomination, Nixon faced challenges from Governor George Romney of Michigan, Governor Nelson Rockefeller of New York, Governor Ronald Reagan of California, and Senator Charles Percy of Illinois. Nixon won nine of the thirteen state primaries held that season, although due to the population of his state, Governor Reagan won the popular vote while carrying only California. These victories, along with pledged delegate support from states not holding primaries, secured Nixon the nomination on the first ballot of the Republican National Convention, where he named Governor Spiro Agnew of Maryland as his running mate.\n",
      "In the general election, Nixon emphasized \"law and order\", positioning himself as the champion of what he called the \"silent majority\". Running well ahead of his opponent, incumbent Vice President Hubert Humphrey, his support slipped in the polls following his refusal to partake in presidential debates, and following an announcement from President Lyndon B. Johnson that a halt in the bombing of Vietnam had been negotiated.\n",
      "Winning a close election on November 5, 1968, Nixon and Agnew were inaugurated as the 37th president of the United States and 39th vice president of the United States, respectively, on January 20, 1969. Nixon was the first vice president since Martin Van Buren in 1836 to be elected president without first having succeeded to that office through the death of his predecessor, and the first non-incumbent vice president to be elected president.\n"
     ]
    }
   ],
   "source": [
    "# --- Correct setup for Wikipedia Tool ---\n",
    "from langchain.tools.wikipedia.tool import WikipediaQueryRun\n",
    "from langchain_community.utilities.wikipedia import WikipediaAPIWrapper\n",
    "\n",
    "wiki_api = WikipediaAPIWrapper(top_k_results=1, lang=\"en\")\n",
    "wiki_tool = WikipediaQueryRun(api_wrapper=wiki_api)\n",
    "\n",
    "# --- Use Wikipedia for each reasoning step ---\n",
    "\n",
    "steps_text = step_chain.invoke({\"question\": question})\n",
    "\n",
    "print(\"\\n🧠 Reasoning steps:\\n\")\n",
    "print(steps_text)\n",
    "\n",
    "# Extract lines that look like steps\n",
    "step_lines = re.findall(r\"\\d+\\.\\s+(.*)\", steps_text)\n",
    "facts = []\n",
    "\n",
    "for step in step_lines:\n",
    "    print(f\"🔍 Looking up: {step}\")\n",
    "    try:\n",
    "        result = wiki_tool.run(step)\n",
    "    except Exception as e:\n",
    "        result = f\"Error retrieving from Wikipedia: {e}\"\n",
    "    facts.append(f\"- {step.strip()}: {result}\")\n",
    "\n",
    "combined_facts = \"\\n\".join(facts)\n",
    "\n",
    "print(\"\\n📚 Retrieved facts from Wikipedia:\\n\")\n",
    "print(combined_facts)\n"
   ]
  },
  {
   "cell_type": "markdown",
   "id": "0e5cfd6d",
   "metadata": {},
   "source": [
    "### Define Synthesis Prompt\n",
    "We define a prompt template to guide the synthesis model. The template combines the question and retrieved facts to generate a complete answer.\n",
    "The `PromptTemplate.from_template` method is used to create a structured template with placeholders for the question and facts."
   ]
  },
  {
   "cell_type": "code",
   "execution_count": 8,
   "id": "880d10b4",
   "metadata": {},
   "outputs": [],
   "source": [
    "synthesis_prompt = PromptTemplate.from_template(\"\"\"\n",
    "Based on the following question and information, write a complete answer.\n",
    "\n",
    "Question: {question}\n",
    "\n",
    "Information:\n",
    "{facts}\n",
    "\n",
    "Answer:\n",
    "\"\"\")\n",
    "synthesis_chain = synthesis_prompt | synthesis_llm"
   ]
  },
  {
   "cell_type": "markdown",
   "id": "f293d3cf",
   "metadata": {},
   "source": [
    "### Generate Final Answer\n",
    "We invoke the synthesis chain to generate the final answer based on the question and the retrieved facts.\n",
    "The `invoke` method processes the input through the synthesis chain and returns the model's response, which is the final synthesized answer."
   ]
  },
  {
   "cell_type": "code",
   "execution_count": 9,
   "id": "e48fd9a8",
   "metadata": {},
   "outputs": [
    {
     "name": "stdout",
     "output_type": "stream",
     "text": [
      "\n",
      "🧠 Final answer from synthesis model:\n",
      "\n",
      "Here’s a breakdown of the information provided and the answer to your question:\n",
      "\n",
      "**Answer:**\n",
      "\n",
      "Richard Nixon’s policy on space exploration was largely focused on **long-term scientific research and technological advancement, rather than immediate militaristic expansion.** He prioritized funding for NASA’s aeronautical programs, including the development of the Saturn V rocket, but he also emphasized the importance of scientific discovery and technological innovation, not primarily for military applications.\n",
      "\n",
      "**Here’s a summary of his approach:**\n",
      "\n",
      "*   **Focus on Science:** He saw space exploration as a crucial area of scientific research and technological development.\n",
      "*   **Funding Priorities:** He allocated significant funding to NASA's aeronautical programs – including the development of rockets and space vehicles.\n",
      "*   **“Silent Majority” Strategy:** His campaign emphasized appealing to the \"silent majority,\" which was a broader appeal encompassing a wide range of interests.\n",
      "*   **Post-Vietnam Delay:** He initially delayed addressing the Vietnam War, but ultimately, his refusal to participate in debates contributed to a decline in support.\n",
      "\n",
      "Let me know if you'd like a deeper dive into any of these points!\n"
     ]
    }
   ],
   "source": [
    "final_answer = synthesis_chain.invoke({\n",
    "    \"question\": question,\n",
    "    \"facts\": combined_facts\n",
    "})\n",
    "print(\"\\n🧠 Final answer from synthesis model:\\n\")\n",
    "print(final_answer)"
   ]
  }
 ],
 "metadata": {
  "kernelspec": {
   "display_name": ".venv",
   "language": "python",
   "name": "python3"
  },
  "language_info": {
   "codemirror_mode": {
    "name": "ipython",
    "version": 3
   },
   "file_extension": ".py",
   "mimetype": "text/x-python",
   "name": "python",
   "nbconvert_exporter": "python",
   "pygments_lexer": "ipython3",
   "version": "3.9.12"
  }
 },
 "nbformat": 4,
 "nbformat_minor": 5
}
