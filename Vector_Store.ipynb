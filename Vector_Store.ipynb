{
 "cells": [
  {
   "cell_type": "markdown",
   "id": "93e79f3c",
   "metadata": {},
   "source": [
    "### LangChain Vectorstore Example\n",
    "---"
   ]
  },
  {
   "cell_type": "code",
   "execution_count": null,
   "id": "7516613b",
   "metadata": {},
   "outputs": [],
   "source": [
    "!pip install chromadb"
   ]
  },
  {
   "cell_type": "code",
   "execution_count": null,
   "id": "49fbf006",
   "metadata": {},
   "outputs": [],
   "source": [
    "from langchain_community.llms import Ollama\n",
    "from langchain.prompts import PromptTemplate\n",
    "from langchain_core.runnables import RunnableMap\n",
    "from langchain.vectorstores import Chroma\n",
    "from langchain_ollama import OllamaEmbeddings, OllamaLLM\n",
    "from langchain.document_loaders import TextLoader\n",
    "from langchain.text_splitter import CharacterTextSplitter\n",
    "\n",
    "import re"
   ]
  },
  {
   "cell_type": "code",
   "execution_count": 12,
   "id": "f9f32680",
   "metadata": {},
   "outputs": [],
   "source": [
    "# --- Step 1: Ensure Ollama models are available ---\n",
    "try:\n",
    "    reasoning_llm = OllamaLLM(model=\"phi4-mini\")\n",
    "    synthesis_llm = OllamaLLM(model=\"Gemma3:1b\")\n",
    "except Exception as e:\n",
    "    print(\"❌ Failed to connect to Ollama or load model 'phi4-mini'.\")\n",
    "    print(\"💡 Make sure Ollama is running and the model is available:\")\n",
    "    print(\"    ollama run phi4-mini\")\n",
    "    print(f\"Error details: {e}\")\n",
    "    exit(1)"
   ]
  },
  {
   "cell_type": "code",
   "execution_count": 13,
   "id": "4fe6aa1c",
   "metadata": {},
   "outputs": [],
   "source": [
    "# --- Step 2: Prompt to break down the question ---\n",
    "reasoning_prompt = PromptTemplate.from_template(\"\"\"\n",
    "You are a reasoning assistant. Break the following question into logical steps to help answer it:\n",
    "\n",
    "Question: {question}\n",
    "\n",
    "Step-by-step breakdown:\n",
    "\"\"\")\n",
    "step_chain = reasoning_prompt | reasoning_llm"
   ]
  },
  {
   "cell_type": "code",
   "execution_count": null,
   "id": "ad2c09b8",
   "metadata": {},
   "outputs": [
    {
     "name": "stderr",
     "output_type": "stream",
     "text": [
      "Created a chunk of size 505, which is longer than the specified 500\n"
     ]
    }
   ],
   "source": [
    "# --- Step 3: Set up vectorstore with Chroma ---\n",
    "loader = TextLoader(\"Space.txt\")  # Load your local corpus\n",
    "documents = loader.load()\n",
    "text_splitter = CharacterTextSplitter(chunk_size=500, chunk_overlap=50)\n",
    "split_docs = text_splitter.split_documents(documents)\n",
    "\n",
    "# Set up Ollama embeddings (nomic-embed-text model)\n",
    "embeddings = OllamaEmbeddings(model=\"nomic-embed-text\")\n",
    "\n",
    "# Set up vectorstore (Chroma) using the split documents\n",
    "vectorstore = Chroma.from_documents(split_docs, embeddings)"
   ]
  },
  {
   "cell_type": "code",
   "execution_count": 17,
   "id": "717f07cf",
   "metadata": {},
   "outputs": [],
   "source": [
    "# --- Step 4: Prompt for final synthesis ---\n",
    "synthesis_prompt = PromptTemplate.from_template(\"\"\"\n",
    "Based on the following question and information, write a complete, informative answer.\n",
    "\n",
    "Question: {question}\n",
    "\n",
    "Information:\n",
    "{facts}\n",
    "\n",
    "Answer:\n",
    "\"\"\")\n",
    "synthesis_chain = synthesis_prompt | synthesis_llm"
   ]
  },
  {
   "cell_type": "code",
   "execution_count": 18,
   "id": "2d9489b1",
   "metadata": {},
   "outputs": [
    {
     "name": "stdout",
     "output_type": "stream",
     "text": [
      "\n",
      "🧠 Reasoning steps:\n",
      "\n",
      "To determine who the President of the United States (POTUS) at the time of Neil Armstrong's first step onto the Moon in 1969 as well as to understand their policies regarding space exploration:\n",
      "\n",
      "1. Identify when Neil Armstrong walked on the moon.\n",
      "   - Answer: July 20, 1969.\n",
      "\n",
      "2. Determine who was POTUS during this period (July-August-September).\n",
      "   - Richard Nixon became President of the United States after winning election in November 1968 and assuming office January 20, 1969; Lyndon B. Johnson had resigned due to health reasons on August 9, 1968.\n",
      "\n",
      "3. Research George W. Bush's policies regarding space exploration.\n",
      "   - Answer: The actual president during Neil Armstrong’s moon landing was Richard Nixon who served from November 7, 1968 – January 20, 1973; as for President George W. Bush (who started his presidency in September 2001), he did not exist yet at the time of Apollo Moon landings.\n",
      "\n",
      "4. Research and summarize key policies regarding space exploration during each president's tenure.\n",
      "   - Richard Nixon: He was supportive initially but faced opposition from Congress due to budget constraints; eventually, under pressures like Soviet advances (e.g., Soyuz 11 mission), he supported NASA’s projects until the era ended in 1973 with President Carter who shifted focus more toward Earth sciences.\n",
      "\n",
      "Thus:\n",
      "- The U.S. president during Neil Armstrong's first step onto the Moon was Richard Nixon.\n",
      "- His policy on space exploration involved initially cautious support due to budget constraints but later faced opposition from Congress and eventually diminished NASA funding as priorities changed towards domestic issues until his term ended in 1973 with Jimmy Carter taking over who refocused attention more toward Earth sciences.\n"
     ]
    }
   ],
   "source": [
    "# --- Step 5: Ask a question ---\n",
    "question = \"Who was the U.S. president during the moon landing, and what was his policy on space exploration?\"\n",
    "steps_text = step_chain.invoke({\"question\": question})\n",
    "\n",
    "print(\"\\n🧠 Reasoning steps:\\n\")\n",
    "print(steps_text)"
   ]
  },
  {
   "cell_type": "code",
   "execution_count": 20,
   "id": "de3c6ab5",
   "metadata": {},
   "outputs": [],
   "source": [
    "# --- Step 6: Parse reasoning steps ---\n",
    "step_lines = re.findall(r\"\\d+\\.\\s+(.*)\", steps_text)\n",
    "facts = []"
   ]
  },
  {
   "cell_type": "code",
   "execution_count": null,
   "id": "cf0f1ce2",
   "metadata": {},
   "outputs": [
    {
     "name": "stdout",
     "output_type": "stream",
     "text": [
      "\n",
      "🔍 Looking up: Identify when Neil Armstrong walked on the moon.\n",
      "\n",
      "🔍 Looking up: 2. Determine who was POTUS during this period (July-August-September).\n",
      "\n",
      "🔍 Looking up: 3. Research George W. Bush's policies regarding space exploration.\n",
      "\n",
      "🔍 Looking up: Research and summarize key policies regarding space exploration during each president's tenure.\n",
      "\n",
      "📚 Retrieved facts from vectorstore:\n",
      "\n",
      "- Identify when Neil Armstrong walked on the moon.: ### Nixon's Role in the Moon Landing\n",
      "When Nixon took office in January 1969, the Apollo program was already well underway, a result of Kennedy's ambitious goal to land a man on the moon before the end of the decade. Nixon inherited the program at its climax and ensured its success was celebrated as a national achievement. He famously spoke to astronauts Neil Armstrong and Buzz Aldrin during their time on the lunar surface, calling it \"the greatest week in the history of the world since the Creation.\"\n",
      "- 2. Determine who was POTUS during this period (July-August-September).: The U.S. president during the historic Apollo 11 moon landing on July 20, 1969, was Richard Nixon. Although the groundwork for the moon landing was laid by his predecessors, particularly John F. Kennedy and Lyndon B. Johnson, Nixon played a significant role in shaping the narrative and public perception of the event.\n",
      "- 3. Research George W. Bush's policies regarding space exploration.: ### Nixon's Space Exploration Policy\n",
      "Nixon's approach to space exploration was more pragmatic compared to Kennedy's visionary stance. While Kennedy had championed the space race as a Cold War imperative, Nixon focused on balancing the costs of space exploration with other national priorities. Under his administration, NASA's budget began to decline, and the Apollo program was scaled back after Apollo 17 in 1972.\n",
      "- Research and summarize key policies regarding space exploration during each president's tenure.: ### Nixon's Space Exploration Policy\n",
      "Nixon's approach to space exploration was more pragmatic compared to Kennedy's visionary stance. While Kennedy had championed the space race as a Cold War imperative, Nixon focused on balancing the costs of space exploration with other national priorities. Under his administration, NASA's budget began to decline, and the Apollo program was scaled back after Apollo 17 in 1972.\n"
     ]
    }
   ],
   "source": [
    "# --- Step 7: Lookup each reasoning step with vectorstore ---\n",
    "for step in step_lines:\n",
    "    print(f\"\\n🔍 Looking up: {step}\")\n",
    "    \n",
    "    # Fall back to vectorstore search\n",
    "    docs = vectorstore.similarity_search(step, k=1)\n",
    "    result = docs[0].page_content if docs else \"No relevant info found in local knowledge base.\"\n",
    "    \n",
    "    facts.append(f\"- {step.strip()}: {result}\")\n",
    "\n",
    "combined_facts = \"\\n\".join(facts)\n",
    "\n",
    "print(\"\\n📚 Retrieved facts from Vectorstore:\\n\")\n",
    "print(combined_facts)"
   ]
  },
  {
   "cell_type": "code",
   "execution_count": 22,
   "id": "cc91cad0",
   "metadata": {},
   "outputs": [
    {
     "name": "stdout",
     "output_type": "stream",
     "text": [
      "\n",
      "✅ Final synthesized answer:\n",
      "\n",
      "Okay, here’s a complete and informative answer to your question, drawing on the provided information and expanding it with further context:\n",
      "\n",
      "**Who was the U.S. president during the moon landing and what was his policy on space exploration?**\n",
      "\n",
      "During the historic moon landing on July 20, 1969, the U.S. president was Richard Nixon.  His policy on space exploration during his tenure (July-August-September 1969) was significantly more pragmatic than that of his predecessor, John F. Kennedy. While Kennedy envisioned a full-scale space race to demonstrate American technological superiority, Nixon prioritized a balance between the significant costs of space exploration and other pressing national concerns.\n",
      "\n",
      "Specifically, Nixon inherited a program already well underway, built upon the foundation laid by John F. Kennedy and Lyndon B. Johnson.  He played a crucial role in shaping the narrative and public perception of the moon landing, and he famously addressed the astronauts Neil Armstrong and Buzz Aldrin during their time on the lunar surface. However, his approach was less about establishing a grand, ambitious vision for space exploration and more about managing resources effectively.\n",
      "\n",
      "**Here’s a breakdown of his policies regarding space exploration:**\n",
      "\n",
      "*   **Budgetary Shifts:** Nixon’s administration initiated a decline in NASA’s budget for the Apollo program. This was a deliberate decision to allocate resources more strategically.  After Apollo 17 in 1972, the Apollo program was significantly reduced, leading to a considerable reduction in funding and operational capabilities.\n",
      "\n",
      "*   **Scale Reduction:**  Following Apollo 17, the Apollo program was scaled back considerably.  Nixon recognized the substantial financial investment required and sought to ensure a return on investment, prioritizing other national priorities. \n",
      "\n",
      "*   **Focus on National Priorities:**  Nixon's policy was fundamentally concerned with managing resources effectively, viewing space exploration as a component of a broader strategy.  He understood that funding space programs could be a significant drain on national resources, and he sought to allocate those funds to address issues more directly impacting the nation's well-being – such as civil defense, education, and economic development.\n",
      "\n",
      "In essence, Nixon’s approach to space exploration was characterized by a calculated balance, prioritizing practical considerations and a focus on addressing immediate national challenges rather than pursuing an expansive, ideologically driven vision of space exploration.\n",
      "\n",
      "\n",
      "Do you want me to delve deeper into a specific aspect of Nixon’s policies, such as the impact on NASA or the broader context of his administration's decision-making?\n"
     ]
    }
   ],
   "source": [
    "\n",
    "# --- Step 8: Summarize using second LLM ---\n",
    "final_answer = synthesis_chain.invoke({\n",
    "    \"question\": question,\n",
    "    \"facts\": combined_facts\n",
    "})\n",
    "\n",
    "print(\"\\n✅ Final synthesized answer:\\n\")\n",
    "print(final_answer)\n"
   ]
  }
 ],
 "metadata": {
  "kernelspec": {
   "display_name": ".venv",
   "language": "python",
   "name": "python3"
  },
  "language_info": {
   "codemirror_mode": {
    "name": "ipython",
    "version": 3
   },
   "file_extension": ".py",
   "mimetype": "text/x-python",
   "name": "python",
   "nbconvert_exporter": "python",
   "pygments_lexer": "ipython3",
   "version": "3.11.0"
  }
 },
 "nbformat": 4,
 "nbformat_minor": 5
}
