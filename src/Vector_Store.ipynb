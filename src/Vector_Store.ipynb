{
 "cells": [
  {
   "cell_type": "markdown",
   "id": "93e79f3c",
   "metadata": {},
   "source": [
    "### LangChain Vectorstore RAG Implementation\n",
    "---\n",
    "This notebook demonstrates a Retrieval-Augmented Generation (RAG) system using LangChain with local models via Ollama. The implementation follows a multi-step reasoning process:\n",
    "\n",
    "1. **Setup**: Loads two Ollama models (phi4-mini for reasoning and Gemma3:1b for synthesis) to handle different parts of the process.\n",
    "\n",
    "2. **Question Analysis**: Uses the reasoning model to break down complex questions into logical sub-steps that can be individually researched.\n",
    "\n",
    "3. **Document Processing**: Loads a local text corpus about space exploration, splits it into manageable chunks, and creates vector embeddings using the nomic-embed-text model.\n",
    "\n",
    "4. **Knowledge Retrieval**: For each identified reasoning step, performs a similarity search in the Chroma vectorstore to find the most relevant information from the knowledge base.\n",
    "\n",
    "5. **Answer Synthesis**: Feeds the original question and all retrieved contextual information to the synthesis model, which generates a cohesive, factual response.\n",
    "\n",
    "This approach enhances the quality of AI-generated answers by combining structured reasoning with targeted information retrieval from a domain-specific knowledge base, allowing for more accurate and contextually relevant responses than using an LLM alone."
   ]
  },
  {
   "cell_type": "code",
   "execution_count": 1,
   "id": "7516613b",
   "metadata": {},
   "outputs": [],
   "source": [
    "# Install the required libraries from requirements.txt \n",
    "# pip install -r requirements.txt"
   ]
  },
  {
   "cell_type": "code",
   "execution_count": 2,
   "id": "49fbf006",
   "metadata": {},
   "outputs": [],
   "source": [
    "try:\n",
    "    # Import the built-in regular expressions module for pattern matching and text processing\n",
    "    import re\n",
    "\n",
    "    # Import the Ollama LLM class from the LangChain community package (often used for integrating local LLMs)\n",
    "    from langchain_community.llms import Ollama\n",
    "\n",
    "    # Import the PromptTemplate class used to define and structure prompts for LLMs\n",
    "    from langchain.prompts import PromptTemplate\n",
    "\n",
    "    # Import RunnableMap, a utility for composing and executing a sequence of runnable components\n",
    "    from langchain_core.runnables import RunnableMap\n",
    "\n",
    "    # Import Chroma vector store, used for storing and searching vector embeddings (RAG retrieval)\n",
    "    from langchain.vectorstores import Chroma\n",
    "\n",
    "    # Import Ollama-specific embeddings and LLM classes for use with LangChain\n",
    "    from langchain_ollama import OllamaEmbeddings, OllamaLLM\n",
    "\n",
    "    # Import TextLoader to load plain text documents from files for processing\n",
    "    from langchain.document_loaders import TextLoader\n",
    "\n",
    "    # Import CharacterTextSplitter to split large documents into smaller chunks based on character count\n",
    "    from langchain.text_splitter import CharacterTextSplitter\n",
    "\n",
    "except ImportError as e:\n",
    "    print(f\"Import error: {e}\")\n",
    "except Exception as e:\n",
    "    print(f\"Unexpected error during imports: {e}\")\n"
   ]
  },
  {
   "cell_type": "code",
   "execution_count": 3,
   "id": "f9f32680",
   "metadata": {},
   "outputs": [],
   "source": [
    "# --- Step 1: Ensure Ollama models are available ---\n",
    "# Attempt to load the reasoning and synthesis LLM models from Ollama.\n",
    "# If the models are not available, provide instructions to the user and exit.\n",
    "try:\n",
    "    reasoning_llm = OllamaLLM(model=\"phi4-mini\")\n",
    "    synthesis_llm = OllamaLLM(model=\"Gemma3:1b\")\n",
    "except Exception as e:\n",
    "    print(\"❌ Failed to connect to Ollama or load model 'phi4-mini'.\")\n",
    "    print(\"💡 Make sure Ollama is running and the model is available:\")\n",
    "    print(\"    ollama run phi4-mini\")\n",
    "    print(f\"Error details: {e}\")\n",
    "    exit(1)"
   ]
  },
  {
   "cell_type": "code",
   "execution_count": 4,
   "id": "4fe6aa1c",
   "metadata": {},
   "outputs": [],
   "source": [
    "# --- Step 2: Prompt to break down the question ---\n",
    "# Define a prompt template to break down a question into logical steps.\n",
    "# This uses the reasoning LLM to generate a step-by-step breakdown.\n",
    "reasoning_prompt = PromptTemplate.from_template(\"\"\"\n",
    "You are a reasoning assistant. Break the following question into logical steps to help answer it:\n",
    "\n",
    "Question: {question}\n",
    "\n",
    "Step-by-step breakdown:\n",
    "\"\"\")\n",
    "step_chain = reasoning_prompt | reasoning_llm"
   ]
  },
  {
   "cell_type": "code",
   "execution_count": 5,
   "id": "ad2c09b8",
   "metadata": {},
   "outputs": [
    {
     "name": "stderr",
     "output_type": "stream",
     "text": [
      "Created a chunk of size 505, which is longer than the specified 500\n"
     ]
    }
   ],
   "source": [
    "# --- Step 3: Set up vectorstore with Chroma ---\n",
    "# Load a local text corpus using TextLoader.\n",
    "loader = TextLoader(\"C:\\Python\\Agent-School\\docs\\Space.txt\")  # Load your local corpus\n",
    "documents = loader.load()\n",
    "\n",
    "# Split the documents into smaller chunks for better processing.\n",
    "text_splitter = CharacterTextSplitter(chunk_size=500, chunk_overlap=50)\n",
    "split_docs = text_splitter.split_documents(documents)\n",
    "\n",
    "# Set up embeddings using the Ollama 'nomic-embed-text' model.\n",
    "embeddings = OllamaEmbeddings(model=\"nomic-embed-text\")\n",
    "\n",
    "# Create a vectorstore (Chroma) using the split documents and embeddings.\n",
    "vectorstore = Chroma.from_documents(split_docs, embeddings)"
   ]
  },
  {
   "cell_type": "code",
   "execution_count": null,
   "id": "717f07cf",
   "metadata": {},
   "outputs": [],
   "source": [
    "# --- Step 4: Prompt for final synthesis ---\n",
    "# Define a prompt template for synthesizing a final answer.\n",
    "# This uses the synthesis LLM to generate a complete and informative response.\n",
    "# Remember - this is just a template, with {question} and {facts} as placeholders which are populated later.\n",
    "\n",
    "synthesis_prompt = PromptTemplate.from_template(\"\"\"\n",
    "Based on the following question and information, write a complete, informative answer.\n",
    "\n",
    "Question: {question}\n",
    "\n",
    "Information:\n",
    "{facts}\n",
    "\n",
    "Answer:\n",
    "\"\"\")\n",
    "synthesis_chain = synthesis_prompt | synthesis_llm"
   ]
  },
  {
   "cell_type": "code",
   "execution_count": 7,
   "id": "2d9489b1",
   "metadata": {},
   "outputs": [
    {
     "name": "stdout",
     "output_type": "stream",
     "text": [
      "\n",
      "🧠 Reasoning steps:\n",
      "\n",
      "To break down this question logically for answering \"Who was the U.S. president during the Moon Landing?\" Follow these step-by-step reasoning actions.\n",
      "\n",
      "1. **Identify the event's date**: The first manned mission to land on the moon, Apollo 11, occurred in July 1969.\n",
      "2. **Determine who is associated with this historical milestone as President of the United States (POTUS) during that time period.**\n",
      "\n",
      "Given these steps:\n",
      "\n",
      "- John F. Kennedy was not president when Apollo 11 landed; he served from January 20, 1961 to November 22, 1963 and died in office.\n",
      "- Lyndon B. Johnson succeeded him on October 27, 1963 but resigned later that year.\n",
      "\n",
      "Therefore,\n",
      "\n",
      "- Richard Nixon became POTUS after winning the election in September 1968 (he was inaugurated as president just over two months before Apollo 11).\n",
      "\n",
      "2. **Identify his stance or policy regarding space exploration**:\n",
      "\n",
      "To find out what President Richard Nixon's policies on Space Exploration were, we can look at some of key historical documents and decisions related to NASA during this period.\n",
      "\n",
      "- In January 1970 (shortly after the Moon Landing), he established a new National Aeronautics and Space Administration directive that shifted focus from manned space exploration back towards unmanned missions.\n",
      "- Nixon's administration also announced plans for Apollo-Soyuz Test Project in July 1969 which was an international joint mission to fly American astronauts aboard Soyuz spacecraft docked with Soviet cosmonauts.\n",
      "\n",
      "Summary:\n",
      "Richard Nixon, the U.S. President during and after Moon Landing (Apollo 11), shifted NASA focus from manned space exploration back towards unmanned missions while also engaging internationally through projects like Apollo-Soyuz Test Project in collaboration with Russia.\n",
      "\n",
      "\n",
      "Step-by-step breakdown for \"What was his policy on Space Exploration?\"\n",
      "\n",
      "1. **Identify Nixon's role as POTUS during the period of significant decisions related to U.S. space programs**:\n",
      "   - Richard Nixon assumed office after winning election and took over presidency shortly before Moon Landing (Apollo 11 in July 1969).\n",
      "\n",
      "2. **Look for major policies or directives issued by President Nixon concerning Space Exploration post-moon landing:**\n",
      "\n",
      "    a. In January, during his second term as POTUS starting on November 20, 1973:\n",
      "       - He announced the termination of manned space flights beyond Earth orbit and ended NASA Apollo program.\n",
      "       \n",
      "    b. Instead he established new directions for unmanned missions by establishing National Aeronautics Space Administration (NASA) directive in January.\n",
      "\n",
      "Summary:\n",
      "\n",
      "Richard Nixon’s policy regarding U.S. space exploration after Moon Landing included:\n",
      "- Shifting focus from human moon landings to more cost-effective, automated Earth orbit and lunar robotic vehicles.\n",
      "- Ending NASA Apollo Program shortly before assuming presidency term ending November 20th,1969\n",
      "- Promoting joint missions like Apollo-Soyuz Test Project in collaboration with Russia.\n"
     ]
    }
   ],
   "source": [
    "# --- Step 5: Ask a question ---\n",
    "# Define the question to be answered and invoke the reasoning chain to get step-by-step reasoning.\n",
    "question = \"Who was the U.S. president during the moon landing, and what was his policy on space exploration?\"\n",
    "steps_text = step_chain.invoke({\"question\": question})\n",
    "\n",
    "# Print the reasoning steps generated by the LLM.\n",
    "print(\"\\n🧠 Reasoning steps:\\n\")\n",
    "print(steps_text)"
   ]
  },
  {
   "cell_type": "code",
   "execution_count": 8,
   "id": "de3c6ab5",
   "metadata": {},
   "outputs": [],
   "source": [
    "# --- Step 6: Parse reasoning steps ---\n",
    "# Extract individual reasoning steps from the generated text using regex.\n",
    "step_lines = re.findall(r\"\\d+\\.\\s+(.*)\", steps_text)\n",
    "facts = []"
   ]
  },
  {
   "cell_type": "code",
   "execution_count": 9,
   "id": "cf0f1ce2",
   "metadata": {},
   "outputs": [
    {
     "name": "stdout",
     "output_type": "stream",
     "text": [
      "\n",
      "🔍 Looking up: **Identify the event's date**: The first manned mission to land on the moon, Apollo 11, occurred in July 1969.\n",
      "\n",
      "🔍 Looking up: **Determine who is associated with this historical milestone as President of the United States (POTUS) during that time period.**\n",
      "\n",
      "🔍 Looking up: **Determine who is associated with this historical milestone as President of the United States (POTUS) during that time period.**\n",
      "\n",
      "🔍 Looking up: **Identify his stance or policy regarding space exploration**:\n",
      "\n",
      "🔍 Looking up: **Identify Nixon's role as POTUS during the period of significant decisions related to U.S. space programs**:\n",
      "\n",
      "🔍 Looking up: **Look for major policies or directives issued by President Nixon concerning Space Exploration post-moon landing:**\n",
      "\n",
      "📚 Retrieved facts from Vectorstore:\n",
      "\n",
      "- **Identify the event's date**: The first manned mission to land on the moon, Apollo 11, occurred in July 1969.: ### Nixon's Role in the Moon Landing\n",
      "When Nixon took office in January 1969, the Apollo program was already well underway, a result of Kennedy's ambitious goal to land a man on the moon before the end of the decade. Nixon inherited the program at its climax and ensured its success was celebrated as a national achievement. He famously spoke to astronauts Neil Armstrong and Buzz Aldrin during their time on the lunar surface, calling it \"the greatest week in the history of the world since the Creation.\"\n",
      "- **Determine who is associated with this historical milestone as President of the United States (POTUS) during that time period.**: The U.S. president during the historic Apollo 11 moon landing on July 20, 1969, was Richard Nixon. Although the groundwork for the moon landing was laid by his predecessors, particularly John F. Kennedy and Lyndon B. Johnson, Nixon played a significant role in shaping the narrative and public perception of the event.\n",
      "- **Identify his stance or policy regarding space exploration**:: ### Nixon's Space Exploration Policy\n",
      "Nixon's approach to space exploration was more pragmatic compared to Kennedy's visionary stance. While Kennedy had championed the space race as a Cold War imperative, Nixon focused on balancing the costs of space exploration with other national priorities. Under his administration, NASA's budget began to decline, and the Apollo program was scaled back after Apollo 17 in 1972.\n",
      "- **Identify Nixon's role as POTUS during the period of significant decisions related to U.S. space programs**:: ### Nixon's Space Exploration Policy\n",
      "Nixon's approach to space exploration was more pragmatic compared to Kennedy's visionary stance. While Kennedy had championed the space race as a Cold War imperative, Nixon focused on balancing the costs of space exploration with other national priorities. Under his administration, NASA's budget began to decline, and the Apollo program was scaled back after Apollo 17 in 1972.\n",
      "- **Look for major policies or directives issued by President Nixon concerning Space Exploration post-moon landing:**: ### Nixon's Space Exploration Policy\n",
      "Nixon's approach to space exploration was more pragmatic compared to Kennedy's visionary stance. While Kennedy had championed the space race as a Cold War imperative, Nixon focused on balancing the costs of space exploration with other national priorities. Under his administration, NASA's budget began to decline, and the Apollo program was scaled back after Apollo 17 in 1972.\n",
      "\n",
      "🔍 Looking up: **Identify his stance or policy regarding space exploration**:\n",
      "\n",
      "🔍 Looking up: **Identify Nixon's role as POTUS during the period of significant decisions related to U.S. space programs**:\n",
      "\n",
      "🔍 Looking up: **Look for major policies or directives issued by President Nixon concerning Space Exploration post-moon landing:**\n",
      "\n",
      "📚 Retrieved facts from Vectorstore:\n",
      "\n",
      "- **Identify the event's date**: The first manned mission to land on the moon, Apollo 11, occurred in July 1969.: ### Nixon's Role in the Moon Landing\n",
      "When Nixon took office in January 1969, the Apollo program was already well underway, a result of Kennedy's ambitious goal to land a man on the moon before the end of the decade. Nixon inherited the program at its climax and ensured its success was celebrated as a national achievement. He famously spoke to astronauts Neil Armstrong and Buzz Aldrin during their time on the lunar surface, calling it \"the greatest week in the history of the world since the Creation.\"\n",
      "- **Determine who is associated with this historical milestone as President of the United States (POTUS) during that time period.**: The U.S. president during the historic Apollo 11 moon landing on July 20, 1969, was Richard Nixon. Although the groundwork for the moon landing was laid by his predecessors, particularly John F. Kennedy and Lyndon B. Johnson, Nixon played a significant role in shaping the narrative and public perception of the event.\n",
      "- **Identify his stance or policy regarding space exploration**:: ### Nixon's Space Exploration Policy\n",
      "Nixon's approach to space exploration was more pragmatic compared to Kennedy's visionary stance. While Kennedy had championed the space race as a Cold War imperative, Nixon focused on balancing the costs of space exploration with other national priorities. Under his administration, NASA's budget began to decline, and the Apollo program was scaled back after Apollo 17 in 1972.\n",
      "- **Identify Nixon's role as POTUS during the period of significant decisions related to U.S. space programs**:: ### Nixon's Space Exploration Policy\n",
      "Nixon's approach to space exploration was more pragmatic compared to Kennedy's visionary stance. While Kennedy had championed the space race as a Cold War imperative, Nixon focused on balancing the costs of space exploration with other national priorities. Under his administration, NASA's budget began to decline, and the Apollo program was scaled back after Apollo 17 in 1972.\n",
      "- **Look for major policies or directives issued by President Nixon concerning Space Exploration post-moon landing:**: ### Nixon's Space Exploration Policy\n",
      "Nixon's approach to space exploration was more pragmatic compared to Kennedy's visionary stance. While Kennedy had championed the space race as a Cold War imperative, Nixon focused on balancing the costs of space exploration with other national priorities. Under his administration, NASA's budget began to decline, and the Apollo program was scaled back after Apollo 17 in 1972.\n"
     ]
    }
   ],
   "source": [
    "# --- Step 7: Lookup each reasoning step with vectorstore ---\n",
    "# For each reasoning step, perform a similarity search in the vectorstore.\n",
    "for step in step_lines:\n",
    "    print(f\"\\n🔍 Looking up: {step}\")\n",
    "    \n",
    "    # Retrieve the most relevant document from the vectorstore.\n",
    "    docs = vectorstore.similarity_search(step, k=1)\n",
    "    result = docs[0].page_content if docs else \"No relevant info found in local knowledge base.\"\n",
    "    \n",
    "    # Append the result to the list of facts.\n",
    "    facts.append(f\"- {step.strip()}: {result}\")\n",
    "\n",
    "# Combine all retrieved facts into a single string.\n",
    "combined_facts = \"\\n\".join(facts)\n",
    "\n",
    "# Print the retrieved facts.\n",
    "print(\"\\n📚 Retrieved facts from Vectorstore:\\n\")\n",
    "print(combined_facts)"
   ]
  },
  {
   "cell_type": "code",
   "execution_count": 10,
   "id": "cc91cad0",
   "metadata": {},
   "outputs": [
    {
     "name": "stdout",
     "output_type": "stream",
     "text": [
      "\n",
      "✅ Final synthesized answer:\n",
      "\n",
      "During the U.S. presidency of Richard Nixon, the U.S. president was **Richard Nixon**. He oversaw the Apollo 11 mission, which occurred on July 20, 1969, marking the first manned landing on the moon. While Kennedy initially spearheaded the space race, Nixon prioritized a more pragmatic approach to space exploration, significantly reducing the Apollo program’s funding and scale after Apollo 17 in 1972, reflecting a balance between scientific advancements and other national priorities.\n"
     ]
    }
   ],
   "source": [
    "# --- Step 8: Summarize using second LLM ---\n",
    "# Use the synthesis chain to generate a final answer based on the question and retrieved facts.\n",
    "final_answer = synthesis_chain.invoke({\n",
    "    \"question\": question,\n",
    "    \"facts\": combined_facts\n",
    "})\n",
    "\n",
    "# Print the final synthesized answer.\n",
    "print(\"\\n✅ Final synthesized answer:\\n\")\n",
    "print(final_answer)"
   ]
  }
 ],
 "metadata": {
  "kernelspec": {
   "display_name": ".venv",
   "language": "python",
   "name": "python3"
  },
  "language_info": {
   "codemirror_mode": {
    "name": "ipython",
    "version": 3
   },
   "file_extension": ".py",
   "mimetype": "text/x-python",
   "name": "python",
   "nbconvert_exporter": "python",
   "pygments_lexer": "ipython3",
   "version": "3.11.0"
  }
 },
 "nbformat": 4,
 "nbformat_minor": 5
}
